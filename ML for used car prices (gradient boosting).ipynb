{
 "cells": [
  {
   "cell_type": "markdown",
   "metadata": {},
   "source": [
    "# Определение стоимости автомобилей"
   ]
  },
  {
   "cell_type": "markdown",
   "metadata": {},
   "source": [
    "Сервис по продаже автомобилей с пробегом «Не бит, не крашен» разрабатывает приложение для привлечения новых клиентов. В нём можно быстро узнать рыночную стоимость своего автомобиля. В вашем распоряжении исторические данные: технические характеристики, комплектации и цены автомобилей. Вам нужно построить модель для определения стоимости. \n",
    "\n",
    "Заказчику важны:\n",
    "\n",
    "- качество предсказания;\n",
    "- скорость предсказания;\n",
    "- время обучения."
   ]
  },
  {
   "cell_type": "markdown",
   "metadata": {},
   "source": [
    "## Подготовка данных"
   ]
  },
  {
   "cell_type": "code",
   "execution_count": 1,
   "metadata": {},
   "outputs": [],
   "source": [
    "#pip install --upgrade category_encoders"
   ]
  },
  {
   "cell_type": "code",
   "execution_count": 2,
   "metadata": {},
   "outputs": [],
   "source": [
    "import numpy as np\n",
    "import pandas as pd\n",
    "import matplotlib.pyplot as plt\n",
    "\n",
    "from sklearn.model_selection import train_test_split\n",
    "from sklearn.preprocessing import OneHotEncoder\n",
    "from category_encoders import TargetEncoder\n",
    "from sklearn.metrics import mean_squared_error\n",
    "\n",
    "from sklearn.linear_model import LinearRegression\n",
    "from sklearn.ensemble import RandomForestRegressor\n",
    "from lightgbm import LGBMRegressor\n",
    "from catboost import CatBoostRegressor\n",
    "\n",
    "import tqdm"
   ]
  },
  {
   "cell_type": "code",
   "execution_count": 3,
   "metadata": {},
   "outputs": [],
   "source": [
    "import warnings\n",
    "warnings.filterwarnings(\"ignore\")"
   ]
  },
  {
   "cell_type": "code",
   "execution_count": 4,
   "metadata": {},
   "outputs": [],
   "source": [
    "random_state = 12345"
   ]
  },
  {
   "cell_type": "markdown",
   "metadata": {},
   "source": [
    "### Первичный просмотр данных"
   ]
  },
  {
   "cell_type": "code",
   "execution_count": 5,
   "metadata": {},
   "outputs": [
    {
     "data": {
      "text/html": [
       "<div>\n",
       "<style scoped>\n",
       "    .dataframe tbody tr th:only-of-type {\n",
       "        vertical-align: middle;\n",
       "    }\n",
       "\n",
       "    .dataframe tbody tr th {\n",
       "        vertical-align: top;\n",
       "    }\n",
       "\n",
       "    .dataframe thead th {\n",
       "        text-align: right;\n",
       "    }\n",
       "</style>\n",
       "<table border=\"1\" class=\"dataframe\">\n",
       "  <thead>\n",
       "    <tr style=\"text-align: right;\">\n",
       "      <th></th>\n",
       "      <th>DateCrawled</th>\n",
       "      <th>Price</th>\n",
       "      <th>VehicleType</th>\n",
       "      <th>RegistrationYear</th>\n",
       "      <th>Gearbox</th>\n",
       "      <th>Power</th>\n",
       "      <th>Model</th>\n",
       "      <th>Kilometer</th>\n",
       "      <th>RegistrationMonth</th>\n",
       "      <th>FuelType</th>\n",
       "      <th>Brand</th>\n",
       "      <th>Repaired</th>\n",
       "      <th>DateCreated</th>\n",
       "      <th>NumberOfPictures</th>\n",
       "      <th>PostalCode</th>\n",
       "      <th>LastSeen</th>\n",
       "    </tr>\n",
       "  </thead>\n",
       "  <tbody>\n",
       "    <tr>\n",
       "      <th>0</th>\n",
       "      <td>2016-03-24 11:52:17</td>\n",
       "      <td>480</td>\n",
       "      <td>NaN</td>\n",
       "      <td>1993</td>\n",
       "      <td>manual</td>\n",
       "      <td>0</td>\n",
       "      <td>golf</td>\n",
       "      <td>150000</td>\n",
       "      <td>0</td>\n",
       "      <td>petrol</td>\n",
       "      <td>volkswagen</td>\n",
       "      <td>NaN</td>\n",
       "      <td>2016-03-24 00:00:00</td>\n",
       "      <td>0</td>\n",
       "      <td>70435</td>\n",
       "      <td>2016-04-07 03:16:57</td>\n",
       "    </tr>\n",
       "    <tr>\n",
       "      <th>1</th>\n",
       "      <td>2016-03-24 10:58:45</td>\n",
       "      <td>18300</td>\n",
       "      <td>coupe</td>\n",
       "      <td>2011</td>\n",
       "      <td>manual</td>\n",
       "      <td>190</td>\n",
       "      <td>NaN</td>\n",
       "      <td>125000</td>\n",
       "      <td>5</td>\n",
       "      <td>gasoline</td>\n",
       "      <td>audi</td>\n",
       "      <td>yes</td>\n",
       "      <td>2016-03-24 00:00:00</td>\n",
       "      <td>0</td>\n",
       "      <td>66954</td>\n",
       "      <td>2016-04-07 01:46:50</td>\n",
       "    </tr>\n",
       "    <tr>\n",
       "      <th>2</th>\n",
       "      <td>2016-03-14 12:52:21</td>\n",
       "      <td>9800</td>\n",
       "      <td>suv</td>\n",
       "      <td>2004</td>\n",
       "      <td>auto</td>\n",
       "      <td>163</td>\n",
       "      <td>grand</td>\n",
       "      <td>125000</td>\n",
       "      <td>8</td>\n",
       "      <td>gasoline</td>\n",
       "      <td>jeep</td>\n",
       "      <td>NaN</td>\n",
       "      <td>2016-03-14 00:00:00</td>\n",
       "      <td>0</td>\n",
       "      <td>90480</td>\n",
       "      <td>2016-04-05 12:47:46</td>\n",
       "    </tr>\n",
       "    <tr>\n",
       "      <th>3</th>\n",
       "      <td>2016-03-17 16:54:04</td>\n",
       "      <td>1500</td>\n",
       "      <td>small</td>\n",
       "      <td>2001</td>\n",
       "      <td>manual</td>\n",
       "      <td>75</td>\n",
       "      <td>golf</td>\n",
       "      <td>150000</td>\n",
       "      <td>6</td>\n",
       "      <td>petrol</td>\n",
       "      <td>volkswagen</td>\n",
       "      <td>no</td>\n",
       "      <td>2016-03-17 00:00:00</td>\n",
       "      <td>0</td>\n",
       "      <td>91074</td>\n",
       "      <td>2016-03-17 17:40:17</td>\n",
       "    </tr>\n",
       "    <tr>\n",
       "      <th>4</th>\n",
       "      <td>2016-03-31 17:25:20</td>\n",
       "      <td>3600</td>\n",
       "      <td>small</td>\n",
       "      <td>2008</td>\n",
       "      <td>manual</td>\n",
       "      <td>69</td>\n",
       "      <td>fabia</td>\n",
       "      <td>90000</td>\n",
       "      <td>7</td>\n",
       "      <td>gasoline</td>\n",
       "      <td>skoda</td>\n",
       "      <td>no</td>\n",
       "      <td>2016-03-31 00:00:00</td>\n",
       "      <td>0</td>\n",
       "      <td>60437</td>\n",
       "      <td>2016-04-06 10:17:21</td>\n",
       "    </tr>\n",
       "  </tbody>\n",
       "</table>\n",
       "</div>"
      ],
      "text/plain": [
       "           DateCrawled  Price VehicleType  RegistrationYear Gearbox  Power  \\\n",
       "0  2016-03-24 11:52:17    480         NaN              1993  manual      0   \n",
       "1  2016-03-24 10:58:45  18300       coupe              2011  manual    190   \n",
       "2  2016-03-14 12:52:21   9800         suv              2004    auto    163   \n",
       "3  2016-03-17 16:54:04   1500       small              2001  manual     75   \n",
       "4  2016-03-31 17:25:20   3600       small              2008  manual     69   \n",
       "\n",
       "   Model  Kilometer  RegistrationMonth  FuelType       Brand Repaired  \\\n",
       "0   golf     150000                  0    petrol  volkswagen      NaN   \n",
       "1    NaN     125000                  5  gasoline        audi      yes   \n",
       "2  grand     125000                  8  gasoline        jeep      NaN   \n",
       "3   golf     150000                  6    petrol  volkswagen       no   \n",
       "4  fabia      90000                  7  gasoline       skoda       no   \n",
       "\n",
       "           DateCreated  NumberOfPictures  PostalCode             LastSeen  \n",
       "0  2016-03-24 00:00:00                 0       70435  2016-04-07 03:16:57  \n",
       "1  2016-03-24 00:00:00                 0       66954  2016-04-07 01:46:50  \n",
       "2  2016-03-14 00:00:00                 0       90480  2016-04-05 12:47:46  \n",
       "3  2016-03-17 00:00:00                 0       91074  2016-03-17 17:40:17  \n",
       "4  2016-03-31 00:00:00                 0       60437  2016-04-06 10:17:21  "
      ]
     },
     "execution_count": 5,
     "metadata": {},
     "output_type": "execute_result"
    }
   ],
   "source": [
    "#data = pd.read_csv('autos.csv')\n",
    "data = pd.read_csv('/datasets/autos.csv')\n",
    "data.head()"
   ]
  },
  {
   "cell_type": "code",
   "execution_count": 6,
   "metadata": {
    "scrolled": false
   },
   "outputs": [
    {
     "name": "stdout",
     "output_type": "stream",
     "text": [
      "<class 'pandas.core.frame.DataFrame'>\n",
      "RangeIndex: 354369 entries, 0 to 354368\n",
      "Data columns (total 16 columns):\n",
      " #   Column             Non-Null Count   Dtype \n",
      "---  ------             --------------   ----- \n",
      " 0   DateCrawled        354369 non-null  object\n",
      " 1   Price              354369 non-null  int64 \n",
      " 2   VehicleType        316879 non-null  object\n",
      " 3   RegistrationYear   354369 non-null  int64 \n",
      " 4   Gearbox            334536 non-null  object\n",
      " 5   Power              354369 non-null  int64 \n",
      " 6   Model              334664 non-null  object\n",
      " 7   Kilometer          354369 non-null  int64 \n",
      " 8   RegistrationMonth  354369 non-null  int64 \n",
      " 9   FuelType           321474 non-null  object\n",
      " 10  Brand              354369 non-null  object\n",
      " 11  Repaired           283215 non-null  object\n",
      " 12  DateCreated        354369 non-null  object\n",
      " 13  NumberOfPictures   354369 non-null  int64 \n",
      " 14  PostalCode         354369 non-null  int64 \n",
      " 15  LastSeen           354369 non-null  object\n",
      "dtypes: int64(7), object(9)\n",
      "memory usage: 43.3+ MB\n"
     ]
    }
   ],
   "source": [
    "data.info()"
   ]
  },
  {
   "cell_type": "code",
   "execution_count": 7,
   "metadata": {},
   "outputs": [
    {
     "data": {
      "text/html": [
       "<div>\n",
       "<style scoped>\n",
       "    .dataframe tbody tr th:only-of-type {\n",
       "        vertical-align: middle;\n",
       "    }\n",
       "\n",
       "    .dataframe tbody tr th {\n",
       "        vertical-align: top;\n",
       "    }\n",
       "\n",
       "    .dataframe thead th {\n",
       "        text-align: right;\n",
       "    }\n",
       "</style>\n",
       "<table border=\"1\" class=\"dataframe\">\n",
       "  <thead>\n",
       "    <tr style=\"text-align: right;\">\n",
       "      <th></th>\n",
       "      <th>Price</th>\n",
       "      <th>RegistrationYear</th>\n",
       "      <th>Power</th>\n",
       "      <th>Kilometer</th>\n",
       "      <th>RegistrationMonth</th>\n",
       "      <th>NumberOfPictures</th>\n",
       "      <th>PostalCode</th>\n",
       "    </tr>\n",
       "  </thead>\n",
       "  <tbody>\n",
       "    <tr>\n",
       "      <th>count</th>\n",
       "      <td>354369.000000</td>\n",
       "      <td>354369.000000</td>\n",
       "      <td>354369.000000</td>\n",
       "      <td>354369.000000</td>\n",
       "      <td>354369.000000</td>\n",
       "      <td>354369.0</td>\n",
       "      <td>354369.000000</td>\n",
       "    </tr>\n",
       "    <tr>\n",
       "      <th>mean</th>\n",
       "      <td>4416.656776</td>\n",
       "      <td>2004.234448</td>\n",
       "      <td>110.094337</td>\n",
       "      <td>128211.172535</td>\n",
       "      <td>5.714645</td>\n",
       "      <td>0.0</td>\n",
       "      <td>50508.689087</td>\n",
       "    </tr>\n",
       "    <tr>\n",
       "      <th>std</th>\n",
       "      <td>4514.158514</td>\n",
       "      <td>90.227958</td>\n",
       "      <td>189.850405</td>\n",
       "      <td>37905.341530</td>\n",
       "      <td>3.726421</td>\n",
       "      <td>0.0</td>\n",
       "      <td>25783.096248</td>\n",
       "    </tr>\n",
       "    <tr>\n",
       "      <th>min</th>\n",
       "      <td>0.000000</td>\n",
       "      <td>1000.000000</td>\n",
       "      <td>0.000000</td>\n",
       "      <td>5000.000000</td>\n",
       "      <td>0.000000</td>\n",
       "      <td>0.0</td>\n",
       "      <td>1067.000000</td>\n",
       "    </tr>\n",
       "    <tr>\n",
       "      <th>25%</th>\n",
       "      <td>1050.000000</td>\n",
       "      <td>1999.000000</td>\n",
       "      <td>69.000000</td>\n",
       "      <td>125000.000000</td>\n",
       "      <td>3.000000</td>\n",
       "      <td>0.0</td>\n",
       "      <td>30165.000000</td>\n",
       "    </tr>\n",
       "    <tr>\n",
       "      <th>50%</th>\n",
       "      <td>2700.000000</td>\n",
       "      <td>2003.000000</td>\n",
       "      <td>105.000000</td>\n",
       "      <td>150000.000000</td>\n",
       "      <td>6.000000</td>\n",
       "      <td>0.0</td>\n",
       "      <td>49413.000000</td>\n",
       "    </tr>\n",
       "    <tr>\n",
       "      <th>75%</th>\n",
       "      <td>6400.000000</td>\n",
       "      <td>2008.000000</td>\n",
       "      <td>143.000000</td>\n",
       "      <td>150000.000000</td>\n",
       "      <td>9.000000</td>\n",
       "      <td>0.0</td>\n",
       "      <td>71083.000000</td>\n",
       "    </tr>\n",
       "    <tr>\n",
       "      <th>max</th>\n",
       "      <td>20000.000000</td>\n",
       "      <td>9999.000000</td>\n",
       "      <td>20000.000000</td>\n",
       "      <td>150000.000000</td>\n",
       "      <td>12.000000</td>\n",
       "      <td>0.0</td>\n",
       "      <td>99998.000000</td>\n",
       "    </tr>\n",
       "  </tbody>\n",
       "</table>\n",
       "</div>"
      ],
      "text/plain": [
       "               Price  RegistrationYear          Power      Kilometer  \\\n",
       "count  354369.000000     354369.000000  354369.000000  354369.000000   \n",
       "mean     4416.656776       2004.234448     110.094337  128211.172535   \n",
       "std      4514.158514         90.227958     189.850405   37905.341530   \n",
       "min         0.000000       1000.000000       0.000000    5000.000000   \n",
       "25%      1050.000000       1999.000000      69.000000  125000.000000   \n",
       "50%      2700.000000       2003.000000     105.000000  150000.000000   \n",
       "75%      6400.000000       2008.000000     143.000000  150000.000000   \n",
       "max     20000.000000       9999.000000   20000.000000  150000.000000   \n",
       "\n",
       "       RegistrationMonth  NumberOfPictures     PostalCode  \n",
       "count      354369.000000          354369.0  354369.000000  \n",
       "mean            5.714645               0.0   50508.689087  \n",
       "std             3.726421               0.0   25783.096248  \n",
       "min             0.000000               0.0    1067.000000  \n",
       "25%             3.000000               0.0   30165.000000  \n",
       "50%             6.000000               0.0   49413.000000  \n",
       "75%             9.000000               0.0   71083.000000  \n",
       "max            12.000000               0.0   99998.000000  "
      ]
     },
     "execution_count": 7,
     "metadata": {},
     "output_type": "execute_result"
    }
   ],
   "source": [
    "data.describe()"
   ]
  },
  {
   "cell_type": "code",
   "execution_count": 8,
   "metadata": {
    "scrolled": false
   },
   "outputs": [
    {
     "data": {
      "text/plain": [
       "array([[<AxesSubplot:title={'center':'Price'}>,\n",
       "        <AxesSubplot:title={'center':'RegistrationYear'}>,\n",
       "        <AxesSubplot:title={'center':'Power'}>],\n",
       "       [<AxesSubplot:title={'center':'Kilometer'}>,\n",
       "        <AxesSubplot:title={'center':'RegistrationMonth'}>,\n",
       "        <AxesSubplot:title={'center':'NumberOfPictures'}>],\n",
       "       [<AxesSubplot:title={'center':'PostalCode'}>, <AxesSubplot:>,\n",
       "        <AxesSubplot:>]], dtype=object)"
      ]
     },
     "execution_count": 8,
     "metadata": {},
     "output_type": "execute_result"
    },
    {
     "data": {
      "image/png": "[encoded data removed]",
      "text/plain": [
       "<Figure size 1152x648 with 9 Axes>"
      ]
     },
     "metadata": {
      "needs_background": "light"
     },
     "output_type": "display_data"
    }
   ],
   "source": [
    "data.hist(figsize=(16,9))"
   ]
  },
  {
   "cell_type": "code",
   "execution_count": 9,
   "metadata": {},
   "outputs": [
    {
     "data": {
      "text/html": [
       "<div>\n",
       "<style scoped>\n",
       "    .dataframe tbody tr th:only-of-type {\n",
       "        vertical-align: middle;\n",
       "    }\n",
       "\n",
       "    .dataframe tbody tr th {\n",
       "        vertical-align: top;\n",
       "    }\n",
       "\n",
       "    .dataframe thead th {\n",
       "        text-align: right;\n",
       "    }\n",
       "</style>\n",
       "<table border=\"1\" class=\"dataframe\">\n",
       "  <thead>\n",
       "    <tr style=\"text-align: right;\">\n",
       "      <th></th>\n",
       "      <th>Price</th>\n",
       "      <th>RegistrationYear</th>\n",
       "      <th>Power</th>\n",
       "      <th>Kilometer</th>\n",
       "      <th>RegistrationMonth</th>\n",
       "      <th>NumberOfPictures</th>\n",
       "      <th>PostalCode</th>\n",
       "    </tr>\n",
       "  </thead>\n",
       "  <tbody>\n",
       "    <tr>\n",
       "      <th>Price</th>\n",
       "      <td>1.000000</td>\n",
       "      <td>0.026916</td>\n",
       "      <td>0.158872</td>\n",
       "      <td>-0.333199</td>\n",
       "      <td>0.110581</td>\n",
       "      <td>NaN</td>\n",
       "      <td>0.076055</td>\n",
       "    </tr>\n",
       "    <tr>\n",
       "      <th>RegistrationYear</th>\n",
       "      <td>0.026916</td>\n",
       "      <td>1.000000</td>\n",
       "      <td>-0.000828</td>\n",
       "      <td>-0.053447</td>\n",
       "      <td>-0.011619</td>\n",
       "      <td>NaN</td>\n",
       "      <td>-0.003459</td>\n",
       "    </tr>\n",
       "    <tr>\n",
       "      <th>Power</th>\n",
       "      <td>0.158872</td>\n",
       "      <td>-0.000828</td>\n",
       "      <td>1.000000</td>\n",
       "      <td>0.024002</td>\n",
       "      <td>0.043380</td>\n",
       "      <td>NaN</td>\n",
       "      <td>0.021665</td>\n",
       "    </tr>\n",
       "    <tr>\n",
       "      <th>Kilometer</th>\n",
       "      <td>-0.333199</td>\n",
       "      <td>-0.053447</td>\n",
       "      <td>0.024002</td>\n",
       "      <td>1.000000</td>\n",
       "      <td>0.009571</td>\n",
       "      <td>NaN</td>\n",
       "      <td>-0.007698</td>\n",
       "    </tr>\n",
       "    <tr>\n",
       "      <th>RegistrationMonth</th>\n",
       "      <td>0.110581</td>\n",
       "      <td>-0.011619</td>\n",
       "      <td>0.043380</td>\n",
       "      <td>0.009571</td>\n",
       "      <td>1.000000</td>\n",
       "      <td>NaN</td>\n",
       "      <td>0.013995</td>\n",
       "    </tr>\n",
       "    <tr>\n",
       "      <th>NumberOfPictures</th>\n",
       "      <td>NaN</td>\n",
       "      <td>NaN</td>\n",
       "      <td>NaN</td>\n",
       "      <td>NaN</td>\n",
       "      <td>NaN</td>\n",
       "      <td>NaN</td>\n",
       "      <td>NaN</td>\n",
       "    </tr>\n",
       "    <tr>\n",
       "      <th>PostalCode</th>\n",
       "      <td>0.076055</td>\n",
       "      <td>-0.003459</td>\n",
       "      <td>0.021665</td>\n",
       "      <td>-0.007698</td>\n",
       "      <td>0.013995</td>\n",
       "      <td>NaN</td>\n",
       "      <td>1.000000</td>\n",
       "    </tr>\n",
       "  </tbody>\n",
       "</table>\n",
       "</div>"
      ],
      "text/plain": [
       "                      Price  RegistrationYear     Power  Kilometer  \\\n",
       "Price              1.000000          0.026916  0.158872  -0.333199   \n",
       "RegistrationYear   0.026916          1.000000 -0.000828  -0.053447   \n",
       "Power              0.158872         -0.000828  1.000000   0.024002   \n",
       "Kilometer         -0.333199         -0.053447  0.024002   1.000000   \n",
       "RegistrationMonth  0.110581         -0.011619  0.043380   0.009571   \n",
       "NumberOfPictures        NaN               NaN       NaN        NaN   \n",
       "PostalCode         0.076055         -0.003459  0.021665  -0.007698   \n",
       "\n",
       "                   RegistrationMonth  NumberOfPictures  PostalCode  \n",
       "Price                       0.110581               NaN    0.076055  \n",
       "RegistrationYear           -0.011619               NaN   -0.003459  \n",
       "Power                       0.043380               NaN    0.021665  \n",
       "Kilometer                   0.009571               NaN   -0.007698  \n",
       "RegistrationMonth           1.000000               NaN    0.013995  \n",
       "NumberOfPictures                 NaN               NaN         NaN  \n",
       "PostalCode                  0.013995               NaN    1.000000  "
      ]
     },
     "execution_count": 9,
     "metadata": {},
     "output_type": "execute_result"
    }
   ],
   "source": [
    "data.corr()"
   ]
  },
  {
   "cell_type": "code",
   "execution_count": 10,
   "metadata": {},
   "outputs": [
    {
     "name": "stdout",
     "output_type": "stream",
     "text": [
      "<class 'pandas.core.frame.DataFrame'>\n",
      "RangeIndex: 354369 entries, 0 to 354368\n",
      "Data columns (total 16 columns):\n",
      " #   Column             Non-Null Count   Dtype \n",
      "---  ------             --------------   ----- \n",
      " 0   DateCrawled        354369 non-null  object\n",
      " 1   Price              354369 non-null  int64 \n",
      " 2   VehicleType        316879 non-null  object\n",
      " 3   RegistrationYear   354369 non-null  int64 \n",
      " 4   Gearbox            334536 non-null  object\n",
      " 5   Power              354369 non-null  int64 \n",
      " 6   Model              334664 non-null  object\n",
      " 7   Kilometer          354369 non-null  int64 \n",
      " 8   RegistrationMonth  354369 non-null  int64 \n",
      " 9   FuelType           321474 non-null  object\n",
      " 10  Brand              354369 non-null  object\n",
      " 11  Repaired           283215 non-null  object\n",
      " 12  DateCreated        354369 non-null  object\n",
      " 13  NumberOfPictures   354369 non-null  int64 \n",
      " 14  PostalCode         354369 non-null  int64 \n",
      " 15  LastSeen           354369 non-null  object\n",
      "dtypes: int64(7), object(9)\n",
      "memory usage: 43.3+ MB\n"
     ]
    }
   ],
   "source": [
    "data.info()"
   ]
  },
  {
   "cell_type": "markdown",
   "metadata": {},
   "source": [
    "### Выводы по итогу первичного просмотра\n",
    "* Есть строки с нулевой ценой. Судя по распределению, их много. Предположительно, их придется исключить из рассмотрения ввиду отсутствия целевого признака.\n",
    "* В NumberOfPictures только нулевые значения, этот столбец можно полностью игнорировать при обучении моделей.\n",
    "* RegistrationYear и Power содержат явно аномальные значения\n",
    "* RegistrationMonth содержит отдельно значения 0 и 12 и имеет завышенные значения в 0, 6 и 12. В данном столбце можно ожидать некоторую сезонность, но такие явные выбросы подозрительны. Скорее всего, они объясняются передискретизацией, поскольку 13 значений раскладываются в 10 \"корзин\" графика. В любом случае, на целевой признак - стоимость - месяц регистрации сильно влиять не должен.\n",
    "* В Kilometer также наблюдается странное распределение, где 50% квантиль совпадает с максимальным значением. Предположительно, пробеги большинства автомобилей в выборке больше и для них было выбрано максимально разрешенное интерфейсом значение.\n",
    "* DateCreated, LastSeen, DateCrawled следует привести к числовому формату. Возможно, следует также рассмотреть разделение признака на год и месяц, чтобы разделить сезонность и зависимость от года размещения. День в месяце можно отбросить как заведомо незначащий признак. Кроме того, если данные не покрывают протяженный период от нескольких лет и более, то все колонки с датами следует отбросить, как заведомо не влияющие на цену.\n",
    "* В VehicleType, Gearbox, Model, FuelType и Repaired имеются пропуски. Все эти признаки категориальные и их придется так или иначе кодировать вместе с пропусками.\n",
    "* Сильно коррелирующих признаков нет\n",
    "* Названия колонок сразу приведем к стандарту snake_case:"
   ]
  },
  {
   "cell_type": "code",
   "execution_count": 12,
   "metadata": {},
   "outputs": [
    {
     "data": {
      "text/plain": [
       "Index(['date_crawled', 'price', 'vehicle_type', 'registration_year', 'gearbox',\n",
       "       'power', 'model', 'kilometer', 'registration_month', 'fuel_type',\n",
       "       'brand', 'repaired', 'date_created', 'number_of_pictures',\n",
       "       'postal_code', 'last_seen'],\n",
       "      dtype='object')"
      ]
     },
     "execution_count": 12,
     "metadata": {},
     "output_type": "execute_result"
    }
   ],
   "source": [
    "data.columns = data.columns.str.replace(r'(?<!^)(?=[A-Z])', '_').str.lower()\n",
    "data.columns"
   ]
  },
  {
   "cell_type": "markdown",
   "metadata": {},
   "source": [
    "### Обработка пропусков и ошибок в данных"
   ]
  },
  {
   "cell_type": "markdown",
   "metadata": {},
   "source": [
    "#### Нули в price"
   ]
  },
  {
   "cell_type": "code",
   "execution_count": 13,
   "metadata": {},
   "outputs": [
    {
     "data": {
      "text/plain": [
       "0.030397692800442477"
      ]
     },
     "execution_count": 13,
     "metadata": {},
     "output_type": "execute_result"
    }
   ],
   "source": [
    "data[data['price']==0].shape[0] / data.shape[0]"
   ]
  },
  {
   "cell_type": "code",
   "execution_count": 14,
   "metadata": {},
   "outputs": [
    {
     "data": {
      "text/plain": [
       "0.03505667820830829"
      ]
     },
     "execution_count": 14,
     "metadata": {},
     "output_type": "execute_result"
    }
   ],
   "source": [
    "data[data['price']<50].shape[0] / data.shape[0]"
   ]
  },
  {
   "cell_type": "code",
   "execution_count": 15,
   "metadata": {
    "scrolled": false
   },
   "outputs": [
    {
     "data": {
      "text/html": [
       "<div>\n",
       "<style scoped>\n",
       "    .dataframe tbody tr th:only-of-type {\n",
       "        vertical-align: middle;\n",
       "    }\n",
       "\n",
       "    .dataframe tbody tr th {\n",
       "        vertical-align: top;\n",
       "    }\n",
       "\n",
       "    .dataframe thead th {\n",
       "        text-align: right;\n",
       "    }\n",
       "</style>\n",
       "<table border=\"1\" class=\"dataframe\">\n",
       "  <thead>\n",
       "    <tr style=\"text-align: right;\">\n",
       "      <th></th>\n",
       "      <th>date_crawled</th>\n",
       "      <th>price</th>\n",
       "      <th>vehicle_type</th>\n",
       "      <th>registration_year</th>\n",
       "      <th>gearbox</th>\n",
       "      <th>power</th>\n",
       "      <th>model</th>\n",
       "      <th>kilometer</th>\n",
       "      <th>registration_month</th>\n",
       "      <th>fuel_type</th>\n",
       "      <th>brand</th>\n",
       "      <th>repaired</th>\n",
       "      <th>date_created</th>\n",
       "      <th>number_of_pictures</th>\n",
       "      <th>postal_code</th>\n",
       "      <th>last_seen</th>\n",
       "    </tr>\n",
       "  </thead>\n",
       "  <tbody>\n",
       "    <tr>\n",
       "      <th>59</th>\n",
       "      <td>2016-03-29 15:48:15</td>\n",
       "      <td>1</td>\n",
       "      <td>suv</td>\n",
       "      <td>1994</td>\n",
       "      <td>manual</td>\n",
       "      <td>286</td>\n",
       "      <td>NaN</td>\n",
       "      <td>150000</td>\n",
       "      <td>11</td>\n",
       "      <td>NaN</td>\n",
       "      <td>sonstige_autos</td>\n",
       "      <td>NaN</td>\n",
       "      <td>2016-03-29 00:00:00</td>\n",
       "      <td>0</td>\n",
       "      <td>53721</td>\n",
       "      <td>2016-04-06 01:44:38</td>\n",
       "    </tr>\n",
       "    <tr>\n",
       "      <th>89</th>\n",
       "      <td>2016-03-28 09:37:01</td>\n",
       "      <td>1</td>\n",
       "      <td>sedan</td>\n",
       "      <td>1995</td>\n",
       "      <td>manual</td>\n",
       "      <td>113</td>\n",
       "      <td>e_klasse</td>\n",
       "      <td>150000</td>\n",
       "      <td>4</td>\n",
       "      <td>gasoline</td>\n",
       "      <td>mercedes_benz</td>\n",
       "      <td>no</td>\n",
       "      <td>2016-03-28 00:00:00</td>\n",
       "      <td>0</td>\n",
       "      <td>40589</td>\n",
       "      <td>2016-04-06 12:15:54</td>\n",
       "    </tr>\n",
       "    <tr>\n",
       "      <th>268</th>\n",
       "      <td>2016-03-12 07:26:49</td>\n",
       "      <td>1</td>\n",
       "      <td>sedan</td>\n",
       "      <td>1990</td>\n",
       "      <td>manual</td>\n",
       "      <td>90</td>\n",
       "      <td>80</td>\n",
       "      <td>70000</td>\n",
       "      <td>6</td>\n",
       "      <td>petrol</td>\n",
       "      <td>audi</td>\n",
       "      <td>no</td>\n",
       "      <td>2016-03-11 00:00:00</td>\n",
       "      <td>0</td>\n",
       "      <td>55122</td>\n",
       "      <td>2016-03-26 23:15:49</td>\n",
       "    </tr>\n",
       "    <tr>\n",
       "      <th>408</th>\n",
       "      <td>2016-03-29 18:51:58</td>\n",
       "      <td>1</td>\n",
       "      <td>NaN</td>\n",
       "      <td>2000</td>\n",
       "      <td>NaN</td>\n",
       "      <td>75</td>\n",
       "      <td>golf</td>\n",
       "      <td>90000</td>\n",
       "      <td>3</td>\n",
       "      <td>petrol</td>\n",
       "      <td>volkswagen</td>\n",
       "      <td>NaN</td>\n",
       "      <td>2016-03-29 00:00:00</td>\n",
       "      <td>0</td>\n",
       "      <td>78588</td>\n",
       "      <td>2016-04-06 04:45:50</td>\n",
       "    </tr>\n",
       "    <tr>\n",
       "      <th>901</th>\n",
       "      <td>2016-03-06 00:25:25</td>\n",
       "      <td>1</td>\n",
       "      <td>NaN</td>\n",
       "      <td>1990</td>\n",
       "      <td>manual</td>\n",
       "      <td>0</td>\n",
       "      <td>other</td>\n",
       "      <td>150000</td>\n",
       "      <td>0</td>\n",
       "      <td>NaN</td>\n",
       "      <td>porsche</td>\n",
       "      <td>NaN</td>\n",
       "      <td>2016-03-05 00:00:00</td>\n",
       "      <td>0</td>\n",
       "      <td>65843</td>\n",
       "      <td>2016-04-06 20:19:08</td>\n",
       "    </tr>\n",
       "    <tr>\n",
       "      <th>967</th>\n",
       "      <td>2016-03-23 08:21:11</td>\n",
       "      <td>1</td>\n",
       "      <td>wagon</td>\n",
       "      <td>1998</td>\n",
       "      <td>manual</td>\n",
       "      <td>136</td>\n",
       "      <td>omega</td>\n",
       "      <td>150000</td>\n",
       "      <td>0</td>\n",
       "      <td>petrol</td>\n",
       "      <td>opel</td>\n",
       "      <td>no</td>\n",
       "      <td>2016-03-22 00:00:00</td>\n",
       "      <td>0</td>\n",
       "      <td>57614</td>\n",
       "      <td>2016-03-27 08:45:52</td>\n",
       "    </tr>\n",
       "    <tr>\n",
       "      <th>1025</th>\n",
       "      <td>2016-03-15 18:57:12</td>\n",
       "      <td>3</td>\n",
       "      <td>convertible</td>\n",
       "      <td>1998</td>\n",
       "      <td>manual</td>\n",
       "      <td>110</td>\n",
       "      <td>mx_reihe</td>\n",
       "      <td>150000</td>\n",
       "      <td>11</td>\n",
       "      <td>NaN</td>\n",
       "      <td>mazda</td>\n",
       "      <td>yes</td>\n",
       "      <td>2016-03-15 00:00:00</td>\n",
       "      <td>0</td>\n",
       "      <td>89312</td>\n",
       "      <td>2016-04-06 21:16:58</td>\n",
       "    </tr>\n",
       "    <tr>\n",
       "      <th>1076</th>\n",
       "      <td>2016-03-18 07:53:24</td>\n",
       "      <td>45</td>\n",
       "      <td>NaN</td>\n",
       "      <td>2015</td>\n",
       "      <td>NaN</td>\n",
       "      <td>0</td>\n",
       "      <td>other</td>\n",
       "      <td>5000</td>\n",
       "      <td>0</td>\n",
       "      <td>NaN</td>\n",
       "      <td>mini</td>\n",
       "      <td>NaN</td>\n",
       "      <td>2016-03-18 00:00:00</td>\n",
       "      <td>0</td>\n",
       "      <td>37339</td>\n",
       "      <td>2016-04-05 22:15:28</td>\n",
       "    </tr>\n",
       "    <tr>\n",
       "      <th>1247</th>\n",
       "      <td>2016-03-24 15:57:20</td>\n",
       "      <td>1</td>\n",
       "      <td>sedan</td>\n",
       "      <td>1983</td>\n",
       "      <td>manual</td>\n",
       "      <td>0</td>\n",
       "      <td>NaN</td>\n",
       "      <td>150000</td>\n",
       "      <td>6</td>\n",
       "      <td>petrol</td>\n",
       "      <td>mercedes_benz</td>\n",
       "      <td>no</td>\n",
       "      <td>2016-03-24 00:00:00</td>\n",
       "      <td>0</td>\n",
       "      <td>53173</td>\n",
       "      <td>2016-04-07 08:45:25</td>\n",
       "    </tr>\n",
       "    <tr>\n",
       "      <th>1340</th>\n",
       "      <td>2016-03-16 21:47:22</td>\n",
       "      <td>1</td>\n",
       "      <td>NaN</td>\n",
       "      <td>2016</td>\n",
       "      <td>manual</td>\n",
       "      <td>0</td>\n",
       "      <td>golf</td>\n",
       "      <td>150000</td>\n",
       "      <td>0</td>\n",
       "      <td>gasoline</td>\n",
       "      <td>volkswagen</td>\n",
       "      <td>yes</td>\n",
       "      <td>2016-03-16 00:00:00</td>\n",
       "      <td>0</td>\n",
       "      <td>49401</td>\n",
       "      <td>2016-04-07 09:45:43</td>\n",
       "    </tr>\n",
       "  </tbody>\n",
       "</table>\n",
       "</div>"
      ],
      "text/plain": [
       "             date_crawled  price vehicle_type  registration_year gearbox  \\\n",
       "59    2016-03-29 15:48:15      1          suv               1994  manual   \n",
       "89    2016-03-28 09:37:01      1        sedan               1995  manual   \n",
       "268   2016-03-12 07:26:49      1        sedan               1990  manual   \n",
       "408   2016-03-29 18:51:58      1          NaN               2000     NaN   \n",
       "901   2016-03-06 00:25:25      1          NaN               1990  manual   \n",
       "967   2016-03-23 08:21:11      1        wagon               1998  manual   \n",
       "1025  2016-03-15 18:57:12      3  convertible               1998  manual   \n",
       "1076  2016-03-18 07:53:24     45          NaN               2015     NaN   \n",
       "1247  2016-03-24 15:57:20      1        sedan               1983  manual   \n",
       "1340  2016-03-16 21:47:22      1          NaN               2016  manual   \n",
       "\n",
       "      power     model  kilometer  registration_month fuel_type  \\\n",
       "59      286       NaN     150000                  11       NaN   \n",
       "89      113  e_klasse     150000                   4  gasoline   \n",
       "268      90        80      70000                   6    petrol   \n",
       "408      75      golf      90000                   3    petrol   \n",
       "901       0     other     150000                   0       NaN   \n",
       "967     136     omega     150000                   0    petrol   \n",
       "1025    110  mx_reihe     150000                  11       NaN   \n",
       "1076      0     other       5000                   0       NaN   \n",
       "1247      0       NaN     150000                   6    petrol   \n",
       "1340      0      golf     150000                   0  gasoline   \n",
       "\n",
       "               brand repaired         date_created  number_of_pictures  \\\n",
       "59    sonstige_autos      NaN  2016-03-29 00:00:00                   0   \n",
       "89     mercedes_benz       no  2016-03-28 00:00:00                   0   \n",
       "268             audi       no  2016-03-11 00:00:00                   0   \n",
       "408       volkswagen      NaN  2016-03-29 00:00:00                   0   \n",
       "901          porsche      NaN  2016-03-05 00:00:00                   0   \n",
       "967             opel       no  2016-03-22 00:00:00                   0   \n",
       "1025           mazda      yes  2016-03-15 00:00:00                   0   \n",
       "1076            mini      NaN  2016-03-18 00:00:00                   0   \n",
       "1247   mercedes_benz       no  2016-03-24 00:00:00                   0   \n",
       "1340      volkswagen      yes  2016-03-16 00:00:00                   0   \n",
       "\n",
       "      postal_code            last_seen  \n",
       "59          53721  2016-04-06 01:44:38  \n",
       "89          40589  2016-04-06 12:15:54  \n",
       "268         55122  2016-03-26 23:15:49  \n",
       "408         78588  2016-04-06 04:45:50  \n",
       "901         65843  2016-04-06 20:19:08  \n",
       "967         57614  2016-03-27 08:45:52  \n",
       "1025        89312  2016-04-06 21:16:58  \n",
       "1076        37339  2016-04-05 22:15:28  \n",
       "1247        53173  2016-04-07 08:45:25  \n",
       "1340        49401  2016-04-07 09:45:43  "
      ]
     },
     "execution_count": 15,
     "metadata": {},
     "output_type": "execute_result"
    }
   ],
   "source": [
    "data[(0<data['price']) & (data['price']<50)].head(10)"
   ]
  },
  {
   "cell_type": "markdown",
   "metadata": {},
   "source": [
    "Датасет содержит около 3% строк с нулевой ценой и 0.5% строк с ценой ниже 50. Также видно, что есть много строк с ценой равной 1, которые также заведомо ошибочны. Из распределения значений можно предположить, что цены указаны в величинах, соразмерных доллару США, а цены меньше 10 указаны в тысячах. Однако, принимая во внимание малое количество таких строк, а также наличие в них множества пропусков в других колонках, логичнее просто удалить все строки с ценой ниже 50."
   ]
  },
  {
   "cell_type": "code",
   "execution_count": 16,
   "metadata": {},
   "outputs": [],
   "source": [
    "datax = data[data['price']<50]"
   ]
  },
  {
   "cell_type": "code",
   "execution_count": 17,
   "metadata": {},
   "outputs": [],
   "source": [
    "data = data[data['price']>=50]"
   ]
  },
  {
   "cell_type": "markdown",
   "metadata": {},
   "source": [
    "#### Нули в number_of_pictures"
   ]
  },
  {
   "cell_type": "code",
   "execution_count": 19,
   "metadata": {
    "scrolled": false
   },
   "outputs": [
    {
     "data": {
      "text/plain": [
       "1.0"
      ]
     },
     "execution_count": 19,
     "metadata": {},
     "output_type": "execute_result"
    }
   ],
   "source": [
    "data[data['number_of_pictures']==0].shape[0] / data.shape[0]"
   ]
  },
  {
   "cell_type": "markdown",
   "metadata": {},
   "source": [
    "Все значения нулевые. Эта колонка не содержит информации, удаляем."
   ]
  },
  {
   "cell_type": "code",
   "execution_count": 20,
   "metadata": {},
   "outputs": [],
   "source": [
    "data = data.drop('number_of_pictures', axis=1)"
   ]
  },
  {
   "cell_type": "markdown",
   "metadata": {},
   "source": [
    "#### Аномальные значения в registration_year"
   ]
  },
  {
   "cell_type": "code",
   "execution_count": 21,
   "metadata": {},
   "outputs": [
    {
     "data": {
      "text/plain": [
       "<AxesSubplot:>"
      ]
     },
     "execution_count": 21,
     "metadata": {},
     "output_type": "execute_result"
    },
    {
     "data": {
      "image/png": "[encoded data removed]",
      "text/plain": [
       "<Figure size 432x288 with 1 Axes>"
      ]
     },
     "metadata": {
      "needs_background": "light"
     },
     "output_type": "display_data"
    }
   ],
   "source": [
    "data[(data['registration_year']<2023) & (data['registration_year']>1950)]['registration_year'].hist()"
   ]
  },
  {
   "cell_type": "code",
   "execution_count": 22,
   "metadata": {},
   "outputs": [
    {
     "data": {
      "text/plain": [
       "0.00023687950729062482"
      ]
     },
     "execution_count": 22,
     "metadata": {},
     "output_type": "execute_result"
    }
   ],
   "source": [
    "data[data['registration_year']>2023].shape[0] / data.shape[0]"
   ]
  },
  {
   "cell_type": "code",
   "execution_count": 23,
   "metadata": {
    "scrolled": true
   },
   "outputs": [
    {
     "data": {
      "text/plain": [
       "0.00045036350768834846"
      ]
     },
     "execution_count": 23,
     "metadata": {},
     "output_type": "execute_result"
    }
   ],
   "source": [
    "data[data['registration_year']<1950].shape[0] / data.shape[0]"
   ]
  },
  {
   "cell_type": "markdown",
   "metadata": {},
   "source": [
    "Выберем интервал с 1950 по 2022 и выбросим строки, которые туда не попадают. Год выпуска - ключевой параметр автомобиля, который кардинальным образом влияет на цену. Полностью совпадающие по всем прочим параметрам автомобили с разницей даже в десять лет это совершенно разные объекты с точки зрения рынка, поэтому автомобили без возраста ценности для анализа не имеют. Кроме того, таких строк микроскопически мало, поэтому отбрасываем."
   ]
  },
  {
   "cell_type": "code",
   "execution_count": 24,
   "metadata": {},
   "outputs": [],
   "source": [
    "data = data[(data['registration_year']<2023) & (data['registration_year']>1950)]"
   ]
  },
  {
   "cell_type": "markdown",
   "metadata": {},
   "source": [
    "#### Аномальные значения в power"
   ]
  },
  {
   "cell_type": "code",
   "execution_count": 25,
   "metadata": {
    "scrolled": true
   },
   "outputs": [
    {
     "data": {
      "text/plain": [
       "<AxesSubplot:>"
      ]
     },
     "execution_count": 25,
     "metadata": {},
     "output_type": "execute_result"
    },
    {
     "data": {
      "image/png": "[encoded data removed]",
      "text/plain": [
       "<Figure size 432x288 with 1 Axes>"
      ]
     },
     "metadata": {
      "needs_background": "light"
     },
     "output_type": "display_data"
    }
   ],
   "source": [
    "data[(data['power']<1000) & (data['power']>10)]['power'].hist()"
   ]
  },
  {
   "cell_type": "code",
   "execution_count": 26,
   "metadata": {},
   "outputs": [
    {
     "data": {
      "text/plain": [
       "0.10350690816717735"
      ]
     },
     "execution_count": 26,
     "metadata": {},
     "output_type": "execute_result"
    }
   ],
   "source": [
    "data[data['power']==0].shape[0] / data.shape[0]"
   ]
  },
  {
   "cell_type": "code",
   "execution_count": 27,
   "metadata": {},
   "outputs": [
    {
     "data": {
      "text/plain": [
       "0.10409514862582932"
      ]
     },
     "execution_count": 27,
     "metadata": {},
     "output_type": "execute_result"
    }
   ],
   "source": [
    "data[data['power']<10].shape[0] / data.shape[0]"
   ]
  },
  {
   "cell_type": "code",
   "execution_count": 28,
   "metadata": {},
   "outputs": [
    {
     "data": {
      "text/plain": [
       "0.0008106597365502184"
      ]
     },
     "execution_count": 28,
     "metadata": {},
     "output_type": "execute_result"
    }
   ],
   "source": [
    "data[data['power']>1000].shape[0] / data.shape[0]"
   ]
  },
  {
   "cell_type": "markdown",
   "metadata": {},
   "source": [
    "В колонке power около 10% нулевых значений и 0.1% заведомо ошибочных больших значений. Удалять 10% из-за одного признака не стоит. Будем считать, что нулевая мощность соответствует случаям, когда мощность не указана. Заменим заведомо ошибочные значения нулем."
   ]
  },
  {
   "cell_type": "code",
   "execution_count": 29,
   "metadata": {},
   "outputs": [],
   "source": [
    "data['power'] = data['power'].where( (data['power']<1000) & (data['power']>10), 0 )"
   ]
  },
  {
   "cell_type": "markdown",
   "metadata": {},
   "source": [
    "#### Проверка распределения registration_month"
   ]
  },
  {
   "cell_type": "code",
   "execution_count": 30,
   "metadata": {},
   "outputs": [
    {
     "data": {
      "text/plain": [
       "<AxesSubplot:>"
      ]
     },
     "execution_count": 30,
     "metadata": {},
     "output_type": "execute_result"
    },
    {
     "data": {
      "image/png": "[encoded data removed]",
      "text/plain": [
       "<Figure size 1080x216 with 1 Axes>"
      ]
     },
     "metadata": {
      "needs_background": "light"
     },
     "output_type": "display_data"
    }
   ],
   "source": [
    "data['registration_month'].hist(bins=13, figsize=(15,3))"
   ]
  },
  {
   "cell_type": "markdown",
   "metadata": {},
   "source": [
    "Распределение по месяцам ровное. Выбросы при первичном просмотре были обоснованы передискретизацией. Номер месяца принимает 13 значений от 0 до 12. Вероятно, ноль соответствует отсутствию значения. Оставим данный признак в текущем виде."
   ]
  },
  {
   "cell_type": "markdown",
   "metadata": {},
   "source": [
    "#### Форматирование date_created, last_seen"
   ]
  },
  {
   "cell_type": "markdown",
   "metadata": {},
   "source": [
    "Посмотрим, как распределены объявления по датам создания"
   ]
  },
  {
   "cell_type": "code",
   "execution_count": 31,
   "metadata": {},
   "outputs": [
    {
     "data": {
      "text/plain": [
       "2016    341671\n",
       "2015        25\n",
       "2014         1\n",
       "Name: dt_created, dtype: int64"
      ]
     },
     "execution_count": 31,
     "metadata": {},
     "output_type": "execute_result"
    }
   ],
   "source": [
    "data['dt_created'] = pd.to_datetime(data['date_created'])\n",
    "data['dt_created'].dt.year.value_counts()"
   ]
  },
  {
   "cell_type": "code",
   "execution_count": 32,
   "metadata": {},
   "outputs": [
    {
     "data": {
      "text/plain": [
       "2016    341697\n",
       "Name: dt_seen, dtype: int64"
      ]
     },
     "execution_count": 32,
     "metadata": {},
     "output_type": "execute_result"
    }
   ],
   "source": [
    "data['dt_seen'] = pd.to_datetime(data['last_seen'])\n",
    "data['dt_seen'].dt.year.value_counts()"
   ]
  },
  {
   "cell_type": "code",
   "execution_count": 33,
   "metadata": {
    "scrolled": true
   },
   "outputs": [
    {
     "data": {
      "text/plain": [
       "<AxesSubplot:>"
      ]
     },
     "execution_count": 33,
     "metadata": {},
     "output_type": "execute_result"
    },
    {
     "data": {
      "image/png": "[encoded data removed]",
      "text/plain": [
       "<Figure size 1296x216 with 1 Axes>"
      ]
     },
     "metadata": {
      "needs_background": "light"
     },
     "output_type": "display_data"
    }
   ],
   "source": [
    "data['dt_created'].hist(figsize=(18,3))"
   ]
  },
  {
   "cell_type": "code",
   "execution_count": 34,
   "metadata": {},
   "outputs": [
    {
     "data": {
      "text/plain": [
       "<AxesSubplot:>"
      ]
     },
     "execution_count": 34,
     "metadata": {},
     "output_type": "execute_result"
    },
    {
     "data": {
      "image/png": "[encoded data removed]",
      "text/plain": [
       "<Figure size 1296x216 with 1 Axes>"
      ]
     },
     "metadata": {
      "needs_background": "light"
     },
     "output_type": "display_data"
    }
   ],
   "source": [
    "data['dt_seen'].hist(figsize=(18,3), bins=100)"
   ]
  },
  {
   "cell_type": "markdown",
   "metadata": {},
   "source": [
    "Объявления отдельно за 2016"
   ]
  },
  {
   "cell_type": "code",
   "execution_count": 35,
   "metadata": {},
   "outputs": [
    {
     "data": {
      "text/plain": [
       "<AxesSubplot:>"
      ]
     },
     "execution_count": 35,
     "metadata": {},
     "output_type": "execute_result"
    },
    {
     "data": {
      "image/png": "[encoded data removed]",
      "text/plain": [
       "<Figure size 1296x216 with 1 Axes>"
      ]
     },
     "metadata": {
      "needs_background": "light"
     },
     "output_type": "display_data"
    }
   ],
   "source": [
    "bins_number = data['dt_created'][data['dt_created']>pd.to_datetime('2016-01-01 00:00:00')].dt.round(\"D\").value_counts().count()\n",
    "data['dt_created'][data['dt_created']>pd.to_datetime('2016-01-01 00:00:00')].dt.round(\"D\").hist(figsize=(18,3), bins=bins_number)"
   ]
  },
  {
   "cell_type": "markdown",
   "metadata": {},
   "source": [
    "И за март 2016"
   ]
  },
  {
   "cell_type": "code",
   "execution_count": 36,
   "metadata": {},
   "outputs": [
    {
     "data": {
      "text/plain": [
       "<AxesSubplot:>"
      ]
     },
     "execution_count": 36,
     "metadata": {},
     "output_type": "execute_result"
    },
    {
     "data": {
      "image/png": "[encoded data removed]",
      "text/plain": [
       "<Figure size 1296x216 with 1 Axes>"
      ]
     },
     "metadata": {
      "needs_background": "light"
     },
     "output_type": "display_data"
    }
   ],
   "source": [
    "bins_number = data['dt_created'][data['dt_created']>pd.to_datetime('2016-03-01 00:00:00')].dt.round(\"D\").value_counts().count()\n",
    "data['dt_created'][data['dt_created']>pd.to_datetime('2016-03-01 00:00:00')].dt.round(\"D\").hist(figsize=(18,3), bins=bins_number)"
   ]
  },
  {
   "cell_type": "code",
   "execution_count": 37,
   "metadata": {},
   "outputs": [
    {
     "data": {
      "text/plain": [
       "0.9984313587769281"
      ]
     },
     "execution_count": 37,
     "metadata": {},
     "output_type": "execute_result"
    }
   ],
   "source": [
    "data['dt_created'][data['dt_created']>pd.to_datetime('2016-03-01 00:00:00')].shape[0] / data.shape[0]"
   ]
  },
  {
   "cell_type": "markdown",
   "metadata": {},
   "source": [
    "Практически все данные соответствуют объявлениям за март 2016 года. Данные признаки можно полностью исключить из рассмотрения, поскольку ценность автомобиля не может зависеть от момента подачи объявления в пределах одного месяца. Любые найденные моделями закономерности для этого признака будут заведомо ложными и будут относиться только к тренировочной выборке. Кроме того, дата последней активности не может быть признаком для рекомендации пользователю, поскольку не известна на момент создания новой анкеты. При наличии выборки за более продолжительный период времени можно было бы учитывать количество дней между подачей объявлений и последней активностью как показатель соответствия цены рынку, но здесь дата последней активности для большинства анкет приходится на последнюю неделю, т.е. не отражает реального окончания активности по анкете. Кроме того, следует исключить анкеты, поданные до 01.03.2016, поскольку все они висели долго, выборка по ним не репрезентативна и цена в них не соответствует рынку."
   ]
  },
  {
   "cell_type": "code",
   "execution_count": 38,
   "metadata": {},
   "outputs": [],
   "source": [
    "data = data[data['dt_created']>pd.to_datetime('2016-03-01 00:00:00')]\n",
    "#data = data.drop(['date_created', 'dt_created', 'last_seen', 'dt_seen', 'date_crawled'], axis=1)"
   ]
  },
  {
   "cell_type": "code",
   "execution_count": 39,
   "metadata": {},
   "outputs": [
    {
     "name": "stdout",
     "output_type": "stream",
     "text": [
      "<class 'pandas.core.frame.DataFrame'>\n",
      "Int64Index: 341161 entries, 0 to 354368\n",
      "Data columns (total 17 columns):\n",
      " #   Column              Non-Null Count   Dtype         \n",
      "---  ------              --------------   -----         \n",
      " 0   date_crawled        341161 non-null  object        \n",
      " 1   price               341161 non-null  int64         \n",
      " 2   vehicle_type        308387 non-null  object        \n",
      " 3   registration_year   341161 non-null  int64         \n",
      " 4   gearbox             324655 non-null  object        \n",
      " 5   power               341161 non-null  int64         \n",
      " 6   model               324129 non-null  object        \n",
      " 7   kilometer           341161 non-null  int64         \n",
      " 8   registration_month  341161 non-null  int64         \n",
      " 9   fuel_type           312624 non-null  object        \n",
      " 10  brand               341161 non-null  object        \n",
      " 11  repaired            276558 non-null  object        \n",
      " 12  date_created        341161 non-null  object        \n",
      " 13  postal_code         341161 non-null  int64         \n",
      " 14  last_seen           341161 non-null  object        \n",
      " 15  dt_created          341161 non-null  datetime64[ns]\n",
      " 16  dt_seen             341161 non-null  datetime64[ns]\n",
      "dtypes: datetime64[ns](2), int64(6), object(9)\n",
      "memory usage: 46.9+ MB\n"
     ]
    }
   ],
   "source": [
    "data.info()"
   ]
  },
  {
   "cell_type": "markdown",
   "metadata": {},
   "source": [
    "### Кодирование категориальных признаков"
   ]
  },
  {
   "cell_type": "markdown",
   "metadata": {},
   "source": [
    "Категориальные признаки это vehicle_type, gearbox, model, fuel_type, brand, repaired, postal_code. Из них gearbox, fuel_type и repaired предположительно имеют мало различных значений и для них подойдет one hot encoding. Признаки vehicle_type, model, brand и postal_code предположительно будут иметь множество различных значений, для них применим target encoding, т.е. будем кодировать средним значением целевого признака. Пропуски в этих колонках будем рассматривать как отдельную категорию:"
   ]
  },
  {
   "cell_type": "code",
   "execution_count": 40,
   "metadata": {},
   "outputs": [],
   "source": [
    "categorical_list = ['vehicle_type', 'gearbox', 'model', 'fuel_type', 'brand', 'repaired', 'postal_code']\n",
    "data[categorical_list] = data[categorical_list].fillna('__Nan')"
   ]
  },
  {
   "cell_type": "markdown",
   "metadata": {},
   "source": [
    "Посмотрим значения в категориальных признаках"
   ]
  },
  {
   "cell_type": "code",
   "execution_count": 41,
   "metadata": {
    "scrolled": false
   },
   "outputs": [
    {
     "name": "stdout",
     "output_type": "stream",
     "text": [
      "                                              Название категории: vehicle_type\n",
      "                                              Всего значений: 9\n",
      "sedan          89017\n",
      "small          77679\n",
      "wagon          63420\n",
      "__Nan          32774\n",
      "bus            28227\n",
      "convertible    19764\n",
      "coupe          15526\n",
      "suv            11718\n",
      "other           3036\n",
      "Name: vehicle_type, dtype: int64\n",
      "\n",
      "                                              Название категории: gearbox\n",
      "                                              Всего значений: 3\n",
      "manual    260102\n",
      "auto       64553\n",
      "__Nan      16506\n",
      "Name: gearbox, dtype: int64\n",
      "\n",
      "                                              Название категории: model\n",
      "                                              Всего значений: 251\n",
      "golf                  28080\n",
      "other                 23458\n",
      "3er                   19067\n",
      "__Nan                 17032\n",
      "polo                  12552\n",
      "                      ...  \n",
      "serie_2                   8\n",
      "rangerover                4\n",
      "serie_3                   3\n",
      "range_rover_evoque        2\n",
      "serie_1                   1\n",
      "Name: model, Length: 251, dtype: int64\n",
      "\n",
      "                                              Название категории: fuel_type\n",
      "                                              Всего значений: 8\n",
      "petrol      209650\n",
      "gasoline     96816\n",
      "__Nan        28537\n",
      "lpg           5142\n",
      "cng            549\n",
      "hybrid         226\n",
      "other          154\n",
      "electric        87\n",
      "Name: fuel_type, dtype: int64\n",
      "\n",
      "                                              Название категории: brand\n",
      "                                              Всего значений: 40\n",
      "volkswagen        73919\n",
      "opel              38251\n",
      "bmw               35532\n",
      "mercedes_benz     31155\n",
      "audi              28391\n",
      "ford              24300\n",
      "renault           17299\n",
      "peugeot           10727\n",
      "fiat               9274\n",
      "seat               6685\n",
      "mazda              5431\n",
      "skoda              5419\n",
      "smart              5141\n",
      "citroen            4985\n",
      "nissan             4788\n",
      "toyota             4520\n",
      "hyundai            3517\n",
      "mini               3146\n",
      "volvo              3103\n",
      "mitsubishi         2909\n",
      "honda              2698\n",
      "sonstige_autos     2665\n",
      "kia                2400\n",
      "suzuki             2266\n",
      "alfa_romeo         2213\n",
      "chevrolet          1692\n",
      "chrysler           1354\n",
      "dacia               886\n",
      "daihatsu            772\n",
      "subaru              721\n",
      "porsche             700\n",
      "jeep                645\n",
      "land_rover          533\n",
      "daewoo              529\n",
      "saab                511\n",
      "jaguar              488\n",
      "trabant             476\n",
      "rover               457\n",
      "lancia              450\n",
      "lada                213\n",
      "Name: brand, dtype: int64\n",
      "\n",
      "                                              Название категории: repaired\n",
      "                                              Всего значений: 3\n",
      "no       242847\n",
      "__Nan     64603\n",
      "yes       33711\n",
      "Name: repaired, dtype: int64\n",
      "\n",
      "                                              Название категории: postal_code\n",
      "                                              Всего значений: 8138\n",
      "10115    811\n",
      "65428    603\n",
      "66333    323\n",
      "44145    301\n",
      "32257    299\n",
      "        ... \n",
      "21360      1\n",
      "89368      1\n",
      "95356      1\n",
      "1778       1\n",
      "31096      1\n",
      "Name: postal_code, Length: 8138, dtype: int64\n",
      "\n"
     ]
    }
   ],
   "source": [
    "for category in categorical_list:\n",
    "    print('                                              Название категории:', category)\n",
    "    print('                                              Всего значений:', data[category].value_counts().count())\n",
    "    print(data[category].value_counts())\n",
    "    print()"
   ]
  },
  {
   "cell_type": "markdown",
   "metadata": {},
   "source": [
    "Выводы по просмотру значений:\n",
    "* В model и postal_code есть значения, которые плохо представлены в выборке. По единичным значениям вообще ничего нельзя предсказать. Малое количество значений может плохо распределиться по тренировочной и тестовой выборке. Уберем из выборки значения, которых там меньше 10, и заменим их значением RARE_VALUE.\n",
    "* Неожиданно, но fuel_type имеет множество значений. Я отстал от жизни и ожидал там petrol/gasoline и diesel. Оказалось, дизельных машин нет, зато есть пропан/бутан, метан и всякая электрика. Это явно американский рынок. Заменим gasoline на petrol, поскольку это все бензин.\n",
    "* vehicle_type имеет не так много значений и подойдет для one hot encoder\n",
    "* По прочим признакам явных дубликатов не видно. Прописных букв, которые указывали бы на возможное наличие дубликатов, тоже не видно."
   ]
  },
  {
   "cell_type": "code",
   "execution_count": 42,
   "metadata": {},
   "outputs": [],
   "source": [
    "data['fuel_type'] = data['fuel_type'].where(data['fuel_type']!='gasoline', 'petrol')"
   ]
  },
  {
   "cell_type": "code",
   "execution_count": 43,
   "metadata": {},
   "outputs": [
    {
     "name": "stdout",
     "output_type": "stream",
     "text": [
      "Категория: vehicle_type  нет замен\n",
      "Категория: gearbox  нет замен\n",
      "Категория: model  Всего редких значений: 35  Осталось уникальных значений 245\n",
      "Категория: fuel_type  нет замен\n",
      "Категория: brand  нет замен\n",
      "Категория: repaired  нет замен\n",
      "Категория: postal_code  Всего редких значений: 9983  Осталось уникальных значений 6237\n"
     ]
    }
   ],
   "source": [
    "for category in categorical_list:\n",
    "    if data[category].value_counts().values[-1]>=10:\n",
    "        print('Категория:', category, ' нет замен')\n",
    "    else:\n",
    "        data.loc[data[category].value_counts()[data[category]].values < 10, category] = 'RARE_VALUE'\n",
    "        print('Категория:', category,\n",
    "              ' Всего редких значений:', data[category].value_counts()['RARE_VALUE'],\n",
    "              ' Осталось уникальных значений', data[category].value_counts().count())"
   ]
  },
  {
   "cell_type": "markdown",
   "metadata": {},
   "source": [
    "Попробуем разбить выборку на возрастные группы с тем чтобы потом проверить гипотезу о различном ценообразовании для разных групп:"
   ]
  },
  {
   "cell_type": "code",
   "execution_count": 44,
   "metadata": {
    "scrolled": true
   },
   "outputs": [
    {
     "data": {
      "text/plain": [
       "kinda_old      144840\n",
       "retro          132735\n",
       "not_so_new      31582\n",
       "kinda_new       12557\n",
       "super_retro      5839\n",
       "Name: age_code, dtype: int64"
      ]
     },
     "execution_count": 44,
     "metadata": {},
     "output_type": "execute_result"
    }
   ],
   "source": [
    "age_list = [0, 3, 7, 15, 30, 100]\n",
    "age_code_list = ['kinda_new', 'not_so_new', 'kinda_old', 'retro', 'super_retro']\n",
    "\n",
    "last_year = data['dt_seen'].dt.year.max()\n",
    "\n",
    "def code_age(year):\n",
    "    for i in range(len(age_list)-1):\n",
    "        if age_list[i] <= last_year - year < age_list[i+1]:\n",
    "            return age_code_list[i]\n",
    "\n",
    "\n",
    "data['age_code'] = data['registration_year'].apply(code_age)\n",
    "data['age_code'].value_counts()"
   ]
  },
  {
   "cell_type": "markdown",
   "metadata": {},
   "source": [
    "#### Разбиваем на тренировочную, тестовую и валидационную выборки"
   ]
  },
  {
   "cell_type": "markdown",
   "metadata": {},
   "source": [
    "Кодирование целевым признаком (target encoding) существенно использует информацию о всей выборке, поэтому необходимо выделить тестовую выборку до этапа кодирования. По этой же причине здесь сложно будет использовать кросс-валидацию, поэтому сделаем также отдельную валидационную выборку."
   ]
  },
  {
   "cell_type": "code",
   "execution_count": 45,
   "metadata": {},
   "outputs": [],
   "source": [
    "features = data.drop(['price','date_created', 'dt_created', 'last_seen', 'dt_seen', 'date_crawled', 'age_code'], axis=1)\n",
    "target = data['price']\n",
    "\n",
    "features_train_valid, features_test, target_train_valid, target_test = train_test_split(\n",
    "    features, target, test_size=0.2, random_state=random_state)\n",
    "features_train, features_valid, target_train, target_valid = train_test_split(\n",
    "    features_train_valid, target_train_valid, test_size=0.25, random_state=random_state)"
   ]
  },
  {
   "cell_type": "markdown",
   "metadata": {},
   "source": [
    "Строим также отдельный набор признаков _v2 с возрастными категориями, чтобы сравнить результат"
   ]
  },
  {
   "cell_type": "code",
   "execution_count": 46,
   "metadata": {},
   "outputs": [],
   "source": [
    "features_v2 = data.drop(['price','date_created', 'dt_created', 'last_seen', 'dt_seen', 'date_crawled'], axis=1)\n",
    "target = data['price']\n",
    "\n",
    "features_train_valid_v2, features_test_v2, target_train_valid, target_test = train_test_split(\n",
    "    features_v2, target, test_size=0.2, random_state=random_state)\n",
    "features_train_v2, features_valid_v2, target_train, target_valid = train_test_split(\n",
    "    features_train_valid_v2, target_train_valid, test_size=0.25, random_state=random_state)"
   ]
  },
  {
   "cell_type": "markdown",
   "metadata": {},
   "source": [
    "#### Кодируем методом target encoding"
   ]
  },
  {
   "cell_type": "code",
   "execution_count": 47,
   "metadata": {},
   "outputs": [],
   "source": [
    "te_categories = ['model', 'brand', 'postal_code']\n",
    "te = TargetEncoder()\n",
    "te.fit(features_train[te_categories], target_train)\n",
    "\n",
    "# сделаем копии для CatBoost. Там в описании настаивают, что без кодирования признаков будет лучше.\n",
    "features_train_cb = features_train.copy()\n",
    "features_valid_cb = features_valid.copy()\n",
    "features_test_cb = features_test.copy()\n",
    "\n",
    "features_train[te_categories] = te.transform(features_train[te_categories], target_train)\n",
    "features_valid[te_categories] = te.transform(features_valid[te_categories])\n",
    "features_test[te_categories] = te.transform(features_test[te_categories])\n",
    "\n",
    "features_train_v2[te_categories] = te.transform(features_train[te_categories], target_train)\n",
    "features_valid_v2[te_categories] = te.transform(features_valid[te_categories])\n",
    "features_test_v2[te_categories] = te.transform(features_test[te_categories])"
   ]
  },
  {
   "cell_type": "markdown",
   "metadata": {},
   "source": [
    "#### Кодируем методом one hot encoding"
   ]
  },
  {
   "cell_type": "code",
   "execution_count": 48,
   "metadata": {},
   "outputs": [],
   "source": [
    "ohe_categories = ['vehicle_type', 'gearbox', 'fuel_type', 'repaired']\n",
    "ohe = OneHotEncoder(handle_unknown='ignore', drop='first', sparse=False)\n",
    "ohe.fit(features_train[ohe_categories])\n",
    "\n",
    "# функция кодирует признаки categories из df кодером ohe\n",
    "def ohe_df(df, ohe, categories):\n",
    "    temp_df = pd.concat([df.reset_index(drop=True), pd.DataFrame(ohe.transform(df[categories]),\n",
    "                                                                 columns=ohe.get_feature_names_out())], axis=1)\n",
    "    return temp_df.drop(categories, axis=1)\n",
    "\n",
    "# сделаем для CatBoost отдельно версию без OHE\n",
    "features_train_te = features_train.copy()\n",
    "features_valid_te = features_valid.copy()\n",
    "features_test_te = features_valid.copy()\n",
    "\n",
    "\n",
    "features_train = ohe_df(features_train, ohe, ohe_categories)\n",
    "features_valid = ohe_df(features_valid, ohe, ohe_categories)\n",
    "features_test = ohe_df(features_test, ohe, ohe_categories)"
   ]
  },
  {
   "cell_type": "markdown",
   "metadata": {},
   "source": [
    "И кодируем отдельный набор признаков _v2 с возрастными категориями"
   ]
  },
  {
   "cell_type": "code",
   "execution_count": 49,
   "metadata": {},
   "outputs": [],
   "source": [
    "ohe_categories_v2 = ['vehicle_type', 'gearbox', 'fuel_type', 'repaired', 'age_code']\n",
    "ohe_v2 = OneHotEncoder(handle_unknown='ignore', drop='first', sparse=False)\n",
    "ohe_v2.fit(features_train_v2[ohe_categories_v2])\n",
    "\n",
    "features_train_v2 = ohe_df(features_train_v2, ohe_v2, ohe_categories_v2)\n",
    "features_valid_v2 = ohe_df(features_valid_v2, ohe_v2, ohe_categories_v2)\n",
    "features_test_v2 = ohe_df(features_test_v2, ohe_v2, ohe_categories_v2)"
   ]
  },
  {
   "cell_type": "markdown",
   "metadata": {},
   "source": [
    "## Иструмент для оптимизации параметров моделей"
   ]
  },
  {
   "cell_type": "markdown",
   "metadata": {},
   "source": [
    "Модели градиентного бустинга имеют параметры с выраженными оптимальными значениями. Построим алгоритм подбора таких параметров в рамках однопараметрической оптимизации. Стандартный метод оптимизации - градиентный спуск - здесь применять затруднительно, поскольку метрика принципиально недифференцируема по гиперпараметрам моделей вследствие наличия в моделях случайного фактора. Попробуем использовать последовательную аппроксимацию параболой по трем точкам:\n",
    "* найдем в списке три точки, где метрики в средней по параметру точке меньше, чем в крайних\n",
    "* найдем параболу, которая через эти точки проходит\n",
    "* найдем значение параметра, соответствующее минимуму параболы\n",
    "* вычислим функцию в этом минимуме, добавим эту точку в список\n",
    "* повторяем процедуру, пока точки не будут достаточно близко"
   ]
  },
  {
   "cell_type": "code",
   "execution_count": 50,
   "metadata": {},
   "outputs": [],
   "source": [
    "# класс предлагается инициализировать, затем брать значения параметра из current_value \n",
    "# и регистрировать значения метрики методом add_metric_value, пока add_metric_value не вернет True\n",
    "\n",
    "# параметры инициализации: \n",
    "# initial_values - начальный вектор значений параметра, может быть любой длины\n",
    "# stop_relation - целевое отношение соседних значений параметра для остановки поиска\n",
    "# step_method - способ формирования трех точек для первой параболы дугой вниз\n",
    "# step_method = 'geometric' - делим или умножаем значение с минимальной метрикой на geometric_step\n",
    "# step_method = 'dichotomy' - делим интервал с минимальной метрикой на границах пополам\n",
    "# step_method = 'geometric_dichotomy' - делим интервал с минимальной метрикой на границах средним геометрическим\n",
    "\n",
    "class one_parameter_parabolic_optimizer:\n",
    "    def __init__(self, initial_values, stop_relation=1.1, step_method='nothing', geometric_step=2):      \n",
    "        self.data = pd.DataFrame(columns=('parameter','metric','x2','x','1'), dtype='float')\n",
    "        self.parabolic_mode = False\n",
    "        self.parabolic_error = False\n",
    "        self.stop_relation_log = np.log(stop_relation)\n",
    "        self.initial_values = initial_values            \n",
    "        self.step_method = step_method                              \n",
    "        self.geometric_step = geometric_step\n",
    "        self.initial_counter = 0\n",
    "        self.current_value = self.initial_values[0]\n",
    "        \n",
    "    def best_value(self):\n",
    "        return self.data.loc[self.data['metric'].idxmin(), 'parameter']\n",
    "    \n",
    "# строим параболу через точку с минимальной метрикой и две соседние и ищем ее минимум\n",
    "    def next_parabolic(self):                      \n",
    "        self.data['x2'] = self.data['parameter']**2\n",
    "        self.data['x'] = self.data['parameter']\n",
    "        self.data['1'] = 1\n",
    "        self.data = self.data.astype(float).sort_values(by='parameter', ascending=True).reset_index(drop=True)\n",
    "        index_min = self.data['metric'].idxmin()\n",
    "        matrix = self.data[['x2','x','1']][index_min-1:index_min+2]\n",
    "        y = self.data['metric'][index_min-1:index_min+2]\n",
    "        vector_abc = np.linalg.inv(matrix) @ y\n",
    "        return -vector_abc[1]/vector_abc[0]/2\n",
    "\n",
    "    def next_geometric(self):\n",
    "        index_min = self.data['metric'].idxmin()\n",
    "        if index_min==0:\n",
    "            return self.data.loc[index_min, 'parameter']/self.geometric_step\n",
    "        else:\n",
    "            return self.data.loc[index_min, 'parameter']*self.geometric_step\n",
    "        \n",
    "    def next_dichotomy(self):\n",
    "        index_min = self.data['metric'].idxmin()\n",
    "        if index_min==0:\n",
    "            return (self.data.loc[index_min, 'parameter'] + self.data.loc[index_min+1, 'parameter'])/2\n",
    "        else:\n",
    "            return (self.data.loc[index_min, 'parameter'] + self.data.loc[index_min-1, 'parameter'])/2\n",
    "        \n",
    "    def next_geometric_dichotomy(self):\n",
    "        index_min = self.data['metric'].idxmin()\n",
    "        if index_min==0:\n",
    "            return (self.data.loc[index_min, 'parameter'] * self.data.loc[index_min+1, 'parameter'])**0.5\n",
    "        else:\n",
    "            return (self.data.loc[index_min, 'parameter'] * self.data.loc[index_min-1, 'parameter'])**0.5\n",
    "    \n",
    "    def add_metric_value(self, metric_value):\n",
    "        if self.parabolic_error:           # записана ошибка, выход\n",
    "                return True\n",
    "        self.data.loc[self.data.shape[0]] = [self.current_value, metric_value, 0, 0, 0]   # новое значение в таблицу\n",
    "        if self.initial_counter+1 < len(self.initial_values) :              # если начальные значения не закончились,\n",
    "            self.initial_counter+=1                                         # то считаем метрику в них\n",
    "            self.current_value = self.initial_values[self.initial_counter]\n",
    "            return False\n",
    "        self.data = self.data.astype(float).sort_values(by='parameter', ascending=True).reset_index(drop=True)\n",
    "        index_min = self.data['metric'].idxmin()         # ищем минимальную метрику\n",
    "        parabolic_ready = (index_min!=0) and (index_min!=self.data.shape[0]-1)      # и выясняем, на краю ли она таблицы\n",
    "        if parabolic_ready:\n",
    "            self.parabolic_mode = True                               # если не на краю, дальше считаем параболой                  \n",
    "            self.current_value = self.next_parabolic()\n",
    "            loglog = abs(np.array([np.log(self.data.loc[index_min-1,'parameter'])-np.log(self.data.loc[index_min,'parameter']),\n",
    "                              np.log(self.data.loc[index_min+1,'parameter']) -np.log(self.data.loc[index_min,'parameter'])]))            \n",
    "            return loglog.min() < self.stop_relation_log   # пока не выполним критерий\n",
    "        elif self.parabolic_mode:    # если уже была парабола, а теперь не получается, то пишем ошибку: метод расходится\n",
    "            return True\n",
    "        elif self.step_method == 'geometric': # если еще нет точек для параболы и задана геометрическая прогрессия\n",
    "            self.current_value = self.next_geometric()\n",
    "            return False\n",
    "        elif self.step_method == 'dichotomy': # если еще нет точек для параболы и задана дихотомия \n",
    "            self.current_value = self.next_dichotomy()\n",
    "            return False\n",
    "        elif self.step_method == 'geometric_dichotomy': # если еще нет точек для параболы и задана geometric_dichotomy \n",
    "            self.current_value = self.next_geometric_dichotomy()\n",
    "            return False\n",
    "        else: # если еще нет точек для параболы и метод поиска не задан, завершаем\n",
    "            return True"
   ]
  },
  {
   "cell_type": "markdown",
   "metadata": {},
   "source": [
    "Демонстрация метода на примере тестовой функции:"
   ]
  },
  {
   "cell_type": "code",
   "execution_count": 51,
   "metadata": {},
   "outputs": [],
   "source": [
    "def lr_test_function(lr):\n",
    "    return np.sin(0.1*(lr-0.33))**4    "
   ]
  },
  {
   "cell_type": "markdown",
   "metadata": {},
   "source": [
    "Так работает геометрическая прогрессия, ее будем использовать для learning_rate:"
   ]
  },
  {
   "cell_type": "code",
   "execution_count": 52,
   "metadata": {},
   "outputs": [
    {
     "name": "stdout",
     "output_type": "stream",
     "text": [
      "parameter = 0.1\n",
      "parameter = 0.05\n",
      "parameter = 0.2\n",
      "parameter = 0.4\n",
      "parameter = 0.8\n",
      "parameter = 0.3031882977501005\n",
      "parameter = 0.34351942093078663\n",
      "parameter = 0.3246829778557888\n",
      "parameter = 0.33274478266908714\n",
      "parameter = 0.328986021278812\n",
      "parameter = 0.33056719258756434\n"
     ]
    }
   ],
   "source": [
    "optimizer = one_parameter_parabolic_optimizer([0.1], 1.01, step_method='geometric')\n",
    "for i in range(100):\n",
    "    parameter = optimizer.current_value\n",
    "    print('parameter =', parameter)\n",
    "    if optimizer.add_metric_value(lr_test_function(parameter)):\n",
    "        break\n",
    "    "
   ]
  },
  {
   "cell_type": "markdown",
   "metadata": {},
   "source": [
    "А так дихотомия, ее будем использовать для поиска в заданном интервале:"
   ]
  },
  {
   "cell_type": "code",
   "execution_count": 53,
   "metadata": {
    "scrolled": true
   },
   "outputs": [
    {
     "name": "stdout",
     "output_type": "stream",
     "text": [
      "parameter = 0\n",
      "parameter = 1\n",
      "parameter = 0.5\n",
      "parameter = 0.2760921444980072\n",
      "parameter = 0.36823382948330025\n",
      "parameter = 0.3233625067864423\n",
      "parameter = 0.3361070868398563\n",
      "parameter = 0.3297493514299022\n",
      "parameter = 0.3302608520981937\n"
     ]
    }
   ],
   "source": [
    "optimizer = one_parameter_parabolic_optimizer([0,1], 1.01, step_method='dichotomy')\n",
    "for i in range(100):\n",
    "    parameter = optimizer.current_value\n",
    "    print('parameter =', parameter)\n",
    "    if optimizer.add_metric_value(lr_test_function(parameter)):\n",
    "        break"
   ]
  },
  {
   "cell_type": "markdown",
   "metadata": {},
   "source": [
    "А так дихотомия средним геометрическим, это для больших интервалов:"
   ]
  },
  {
   "cell_type": "code",
   "execution_count": 54,
   "metadata": {
    "scrolled": true
   },
   "outputs": [
    {
     "name": "stdout",
     "output_type": "stream",
     "text": [
      "parameter = 0.1\n",
      "parameter = 1000\n",
      "parameter = 10.0\n",
      "parameter = 1.0\n",
      "parameter = 0.31622776601683794\n",
      "parameter = 0.22709198138875084\n",
      "parameter = 0.2733070110090033\n",
      "parameter = 0.29506373819343945\n",
      "parameter = 0.30572813130346904\n",
      "parameter = 0.31101294949135694\n",
      "parameter = 0.3136414880999471\n"
     ]
    }
   ],
   "source": [
    "optimizer = one_parameter_parabolic_optimizer([0.1,1000], 1.01, step_method='geometric_dichotomy')\n",
    "for i in range(100):\n",
    "    parameter = optimizer.current_value\n",
    "    print('parameter =', parameter)\n",
    "    if optimizer.add_metric_value(lr_test_function(parameter)):\n",
    "        break"
   ]
  },
  {
   "cell_type": "markdown",
   "metadata": {},
   "source": [
    "## Обучение моделей"
   ]
  },
  {
   "cell_type": "markdown",
   "metadata": {},
   "source": [
    "### Линейная регрессия"
   ]
  },
  {
   "cell_type": "markdown",
   "metadata": {},
   "source": [
    "Обучение:"
   ]
  },
  {
   "cell_type": "code",
   "execution_count": 55,
   "metadata": {},
   "outputs": [
    {
     "name": "stdout",
     "output_type": "stream",
     "text": [
      "CPU times: total: 281 ms\n",
      "Wall time: 144 ms\n"
     ]
    },
    {
     "data": {
      "text/plain": [
       "LinearRegression()"
      ]
     },
     "execution_count": 55,
     "metadata": {},
     "output_type": "execute_result"
    }
   ],
   "source": [
    "%%time\n",
    "lr_model = LinearRegression()\n",
    "lr_model.fit(features_train, target_train)"
   ]
  },
  {
   "cell_type": "markdown",
   "metadata": {},
   "source": [
    "Предсказание:"
   ]
  },
  {
   "cell_type": "code",
   "execution_count": 56,
   "metadata": {},
   "outputs": [
    {
     "name": "stdout",
     "output_type": "stream",
     "text": [
      "CPU times: total: 62.5 ms\n",
      "Wall time: 9 ms\n"
     ]
    },
    {
     "data": {
      "text/plain": [
       "2829.3345982057936"
      ]
     },
     "execution_count": 56,
     "metadata": {},
     "output_type": "execute_result"
    }
   ],
   "source": [
    "%%time\n",
    "mean_squared_error(target_valid, lr_model.predict(features_valid), squared=False)"
   ]
  },
  {
   "cell_type": "markdown",
   "metadata": {},
   "source": [
    "Значение метрики великовато, зато быстро. Запомним результаты:"
   ]
  },
  {
   "cell_type": "code",
   "execution_count": 101,
   "metadata": {},
   "outputs": [],
   "source": [
    "result_table = pd.DataFrame(columns=('Название модели', 'Лучшее значение RMSE', \n",
    "                                     'Время обучения (секунды wall time)', 'Время предсказания', 'Время подбора параметров '))\n",
    "result_table.loc[result_table.shape[0]] = ['Линейная регрессия', 2829, 0.1, 0.01, 0.1]"
   ]
  },
  {
   "cell_type": "markdown",
   "metadata": {},
   "source": [
    "### Случайный лес"
   ]
  },
  {
   "cell_type": "markdown",
   "metadata": {},
   "source": [
    "Параметры леса это max_depth и n_estimators. Первый из них сложно влияет на метрику, второй не имеет оптимума и ограничен временем. Оптимизацию здесь автоматизировать не будем. Попробуем варианты с разными max_depth:"
   ]
  },
  {
   "cell_type": "code",
   "execution_count": 57,
   "metadata": {},
   "outputs": [
    {
     "name": "stdout",
     "output_type": "stream",
     "text": [
      "CPU times: total: 47.6 s\n",
      "Wall time: 47.6 s\n"
     ]
    },
    {
     "data": {
      "text/plain": [
       "1611.3688256838495"
      ]
     },
     "execution_count": 57,
     "metadata": {},
     "output_type": "execute_result"
    }
   ],
   "source": [
    "%%time\n",
    "rf_model = RandomForestRegressor(max_depth=20, n_estimators=50, random_state=random_state)\n",
    "rf_model.fit(features_train, target_train)\n",
    "mean_squared_error(target_valid, rf_model.predict(features_valid), squared=False)"
   ]
  },
  {
   "cell_type": "code",
   "execution_count": 58,
   "metadata": {
    "scrolled": true
   },
   "outputs": [
    {
     "name": "stdout",
     "output_type": "stream",
     "text": [
      "CPU times: total: 57.3 s\n",
      "Wall time: 57.7 s\n"
     ]
    },
    {
     "data": {
      "text/plain": [
       "1609.5927818304285"
      ]
     },
     "execution_count": 58,
     "metadata": {},
     "output_type": "execute_result"
    }
   ],
   "source": [
    "%%time\n",
    "rf_model = RandomForestRegressor(max_depth=50, n_estimators=50, random_state=random_state)\n",
    "rf_model.fit(features_train, target_train)\n",
    "mean_squared_error(target_valid, rf_model.predict(features_valid), squared=False)"
   ]
  },
  {
   "cell_type": "markdown",
   "metadata": {},
   "source": [
    "Убедимся, что разницы между max_depth=20 и max_depth=50 на валидационной выборке нет. Прикинем вариант, который считается около пяти минут, чтобы сравнивать его результаты с бустингом:"
   ]
  },
  {
   "cell_type": "code",
   "execution_count": 59,
   "metadata": {},
   "outputs": [
    {
     "name": "stdout",
     "output_type": "stream",
     "text": [
      "CPU times: total: 3min 38s\n",
      "Wall time: 3min 40s\n"
     ]
    },
    {
     "data": {
      "text/plain": [
       "RandomForestRegressor(max_depth=30, n_estimators=200, random_state=12345)"
      ]
     },
     "execution_count": 59,
     "metadata": {},
     "output_type": "execute_result"
    }
   ],
   "source": [
    "%%time\n",
    "rf_model = RandomForestRegressor(max_depth=30, n_estimators=200, random_state=random_state)\n",
    "rf_model.fit(features_train, target_train)"
   ]
  },
  {
   "cell_type": "markdown",
   "metadata": {},
   "source": [
    "Предсказание:"
   ]
  },
  {
   "cell_type": "code",
   "execution_count": 60,
   "metadata": {
    "scrolled": true
   },
   "outputs": [
    {
     "name": "stdout",
     "output_type": "stream",
     "text": [
      "CPU times: total: 5.02 s\n",
      "Wall time: 5.08 s\n"
     ]
    },
    {
     "data": {
      "text/plain": [
       "1595.632060895015"
      ]
     },
     "execution_count": 60,
     "metadata": {},
     "output_type": "execute_result"
    }
   ],
   "source": [
    "%%time\n",
    "mean_squared_error(target_valid, rf_model.predict(features_valid), squared=False)"
   ]
  },
  {
   "cell_type": "markdown",
   "metadata": {},
   "source": [
    "И сделаем вывод, что накруткой количества деревьев много точности мы здесь уже не получим."
   ]
  },
  {
   "cell_type": "code",
   "execution_count": 102,
   "metadata": {},
   "outputs": [],
   "source": [
    "result_table.loc[result_table.shape[0]] = ['Случайный лес', 1596, 220, 5, 330]"
   ]
  },
  {
   "cell_type": "markdown",
   "metadata": {},
   "source": [
    "### Бустинг LightGBM"
   ]
  },
  {
   "cell_type": "markdown",
   "metadata": {},
   "source": [
    "Основные параметры LightGBM это сложность дерева (num_leaves), шаг бустинга (learning_rate) и количество шагов (num_iterations). num_iterations определяет время счета, сложность дерева должна быть достаточной, а шаг сразу подберем оптимизацией."
   ]
  },
  {
   "cell_type": "code",
   "execution_count": 61,
   "metadata": {},
   "outputs": [
    {
     "name": "stdout",
     "output_type": "stream",
     "text": [
      "learning rate = 0.30000 rmse = 1613.5\n",
      "learning rate = 0.15000 rmse = 1568.5\n",
      "learning rate = 0.07500 rmse = 1568.3\n",
      "learning rate = 0.03750 rmse = 1582.7\n",
      "learning rate = 0.11202 rmse = 1562.5\n",
      "learning rate = 0.11211 rmse = 1566.5\n",
      "CPU times: total: 1min 21s\n",
      "Wall time: 22.4 s\n"
     ]
    }
   ],
   "source": [
    "%%time\n",
    "optimizer = one_parameter_parabolic_optimizer([0.3], 1.03, step_method='geometric')\n",
    "for i in range(10):\n",
    "    learning_rate = optimizer.current_value\n",
    "    lgbm_model = LGBMRegressor(num_leaves=200, learning_rate=learning_rate, num_iterations=400, random_state=random_state)\n",
    "    lgbm_model.fit(features_train, target_train)\n",
    "    rmse = mean_squared_error(target_valid, lgbm_model.predict(features_valid), squared=False)\n",
    "    print(f'learning rate = {learning_rate:.5f} rmse = {rmse:.1f}')\n",
    "    if optimizer.add_metric_value(rmse):\n",
    "        break\n",
    "best_learning_rate_400 = optimizer.best_value()"
   ]
  },
  {
   "cell_type": "markdown",
   "metadata": {},
   "source": [
    "Сходу счетом на 20 секунд обогнали четырехминутное случайное дерево. Похоже, что бустиг эффективнее бэггинга. Теперь зафиксируем параметры бустинга и поищем оптимальное num_leaves:"
   ]
  },
  {
   "cell_type": "code",
   "execution_count": 62,
   "metadata": {},
   "outputs": [
    {
     "name": "stdout",
     "output_type": "stream",
     "text": [
      "num_leaves = 50.00000 rmse = 1601.9\n",
      "num_leaves = 1000.00000 rmse = 1571.4\n",
      "num_leaves = 223.00000 rmse = 1565.2\n",
      "num_leaves = 594.00000 rmse = 1567.7\n",
      "num_leaves = 400.00000 rmse = 1561.9\n",
      "num_leaves = 383.00000 rmse = 1561.3\n",
      "num_leaves = 341.00000 rmse = 1559.2\n",
      "num_leaves = 322.00000 rmse = 1561.5\n",
      "num_leaves = 353.00000 rmse = 1562.2\n",
      "num_leaves = 336.00000 rmse = 1562.0\n",
      "CPU times: total: 3min 23s\n",
      "Wall time: 56.8 s\n"
     ]
    }
   ],
   "source": [
    "%%time\n",
    "optimizer = one_parameter_parabolic_optimizer([50, 1000], 1.03, step_method='geometric_dichotomy')\n",
    "for i in range(10):\n",
    "    num_leaves = int(optimizer.current_value)\n",
    "    lgbm_model = LGBMRegressor(num_leaves=num_leaves, learning_rate=best_learning_rate_400, \n",
    "                               num_iterations=400, random_state=random_state)\n",
    "    lgbm_model.fit(features_train, target_train)\n",
    "    rmse = mean_squared_error(target_valid, lgbm_model.predict(features_valid), squared=False)\n",
    "    print(f'num_leaves = {num_leaves:.5f} rmse = {rmse:.1f}')\n",
    "    if optimizer.add_metric_value(rmse):\n",
    "        break\n",
    "best_num_leaves = int(optimizer.best_value())"
   ]
  },
  {
   "cell_type": "markdown",
   "metadata": {},
   "source": [
    "Разница минимальна, а считает с большим num_leaves дольше. Но проверку разумности наших значений имеем. Попробуем пошевелить еще параметр feature_fraction:"
   ]
  },
  {
   "cell_type": "code",
   "execution_count": 63,
   "metadata": {},
   "outputs": [
    {
     "name": "stdout",
     "output_type": "stream",
     "text": [
      "[LightGBM] [Warning] feature_fraction is set=0.1, colsample_bytree=1.0 will be ignored. Current value: feature_fraction=0.1\n",
      "feature_fraction = 0.10000 rmse = 1662.7\n",
      "[LightGBM] [Warning] feature_fraction is set=1, colsample_bytree=1.0 will be ignored. Current value: feature_fraction=1\n",
      "feature_fraction = 1.00000 rmse = 1559.2\n",
      "[LightGBM] [Warning] feature_fraction is set=0.55, colsample_bytree=1.0 will be ignored. Current value: feature_fraction=0.55\n",
      "feature_fraction = 0.55000 rmse = 1549.4\n",
      "[LightGBM] [Warning] feature_fraction is set=0.7390799028973889, colsample_bytree=1.0 will be ignored. Current value: feature_fraction=0.7390799028973889\n",
      "feature_fraction = 0.73908 rmse = 1550.1\n",
      "[LightGBM] [Warning] feature_fraction is set=0.6400243497561908, colsample_bytree=1.0 will be ignored. Current value: feature_fraction=0.6400243497561908\n",
      "feature_fraction = 0.64002 rmse = 1550.9\n",
      "[LightGBM] [Warning] feature_fraction is set=0.5783692561147507, colsample_bytree=1.0 will be ignored. Current value: feature_fraction=0.5783692561147507\n",
      "feature_fraction = 0.57837 rmse = 1549.4\n",
      "[LightGBM] [Warning] feature_fraction is set=0.5641846280573679, colsample_bytree=1.0 will be ignored. Current value: feature_fraction=0.5641846280573679\n",
      "feature_fraction = 0.56418 rmse = 1549.4\n",
      "CPU times: total: 2min 8s\n",
      "Wall time: 35 s\n"
     ]
    }
   ],
   "source": [
    "%%time\n",
    "optimizer = one_parameter_parabolic_optimizer([0.1, 1], 1.03, step_method='dichotomy')\n",
    "for i in range(10):\n",
    "    feature_fraction = optimizer.current_value\n",
    "    lgbm_model = LGBMRegressor(num_leaves=best_num_leaves, learning_rate=best_learning_rate_400,  \n",
    "                               num_iterations=400, \n",
    "                               feature_fraction=feature_fraction, random_state=random_state)\n",
    "    lgbm_model.fit(features_train, target_train)\n",
    "    rmse = mean_squared_error(target_valid, lgbm_model.predict(features_valid), squared=False)\n",
    "    print(f'feature_fraction = {feature_fraction:.5f} rmse = {rmse:.1f}')\n",
    "    if optimizer.add_metric_value(rmse):\n",
    "        break\n",
    "best_feature_fraction = optimizer.best_value()"
   ]
  },
  {
   "cell_type": "markdown",
   "metadata": {},
   "source": [
    "А здесь прогресс заметен. Попробуем теперь с проверенными параметрами сделать чуть больше итераций бустинга. Поскольку это повторная оптимизация по learning_rate, начинаем с известного значения. Для ускорения процесса сделаем ровно 4 шага оптимизации, из них 3 первых точки позволят построить параболическую аппроксимацию, а четвертую посчитаем в вершине параболы."
   ]
  },
  {
   "cell_type": "code",
   "execution_count": 64,
   "metadata": {},
   "outputs": [
    {
     "name": "stdout",
     "output_type": "stream",
     "text": [
      "[LightGBM] [Warning] feature_fraction is set=0.55, colsample_bytree=1.0 will be ignored. Current value: feature_fraction=0.55\n",
      "learning_rate = 0.11202 rmse = 1548.3\n",
      "[LightGBM] [Warning] feature_fraction is set=0.55, colsample_bytree=1.0 will be ignored. Current value: feature_fraction=0.55\n",
      "learning_rate = 0.05601 rmse = 1533.1\n",
      "[LightGBM] [Warning] feature_fraction is set=0.55, colsample_bytree=1.0 will be ignored. Current value: feature_fraction=0.55\n",
      "learning_rate = 0.02800 rmse = 1538.9\n",
      "[LightGBM] [Warning] feature_fraction is set=0.55, colsample_bytree=1.0 will be ignored. Current value: feature_fraction=0.55\n",
      "learning_rate = 0.06008 rmse = 1531.9\n",
      "CPU times: total: 3min 17s\n",
      "Wall time: 54.9 s\n"
     ]
    }
   ],
   "source": [
    "%%time\n",
    "optimizer = one_parameter_parabolic_optimizer([best_learning_rate_400], 1.03, step_method='geometric')\n",
    "for i in range(4):\n",
    "    learning_rate = optimizer.current_value\n",
    "    lgbm_model = LGBMRegressor(num_leaves=best_num_leaves, learning_rate=learning_rate,  num_iterations=1000, \n",
    "                               feature_fraction=best_feature_fraction, random_state=random_state)\n",
    "    lgbm_model.fit(features_train, target_train)\n",
    "    rmse = mean_squared_error(target_valid, lgbm_model.predict(features_valid), squared=False)\n",
    "    print(f'learning_rate = {learning_rate:.5f} rmse = {rmse:.1f}')\n",
    "    if optimizer.add_metric_value(rmse):\n",
    "        break\n",
    "best_learning_rate_1000 = optimizer.best_value()"
   ]
  },
  {
   "cell_type": "markdown",
   "metadata": {},
   "source": [
    "Количество шагов улучшает точность. Случайное дерево осталось далеко позади. Остановимся на этой полутораминутной оптимизации и запомним параметры."
   ]
  },
  {
   "cell_type": "code",
   "execution_count": 65,
   "metadata": {
    "scrolled": true
   },
   "outputs": [
    {
     "name": "stdout",
     "output_type": "stream",
     "text": [
      "[LightGBM] [Warning] feature_fraction is set=0.55, colsample_bytree=1.0 will be ignored. Current value: feature_fraction=0.55\n",
      "CPU times: total: 47.4 s\n",
      "Wall time: 13.2 s\n"
     ]
    },
    {
     "data": {
      "text/plain": [
       "1531.8887170590372"
      ]
     },
     "execution_count": 65,
     "metadata": {},
     "output_type": "execute_result"
    }
   ],
   "source": [
    "%%time\n",
    "lgbm_model_best = LGBMRegressor(num_leaves=best_num_leaves, learning_rate=best_learning_rate_1000,  num_iterations=1000, \n",
    "                               feature_fraction=best_feature_fraction, random_state=random_state)\n",
    "lgbm_model_best.fit(features_train, target_train)\n",
    "mean_squared_error(target_valid, lgbm_model_best.predict(features_valid), squared=False)"
   ]
  },
  {
   "cell_type": "markdown",
   "metadata": {},
   "source": [
    "Проверим, нет ли явно выраженного переобучения по num_leaves:"
   ]
  },
  {
   "cell_type": "code",
   "execution_count": 66,
   "metadata": {},
   "outputs": [
    {
     "name": "stdout",
     "output_type": "stream",
     "text": [
      "[LightGBM] [Warning] feature_fraction is set=0.55, colsample_bytree=1.0 will be ignored. Current value: feature_fraction=0.55\n",
      "best_num_leaves      ----> RMSE train = 980.2, RMSE valid = 1531.9\n",
      "2*best_num_leaves//3 ----> RMSE train = 1091.6, RMSE valid = 1540.7\n",
      "CPU times: total: 1min 31s\n",
      "Wall time: 25.2 s\n"
     ]
    }
   ],
   "source": [
    "%%time\n",
    "lgbm_model = LGBMRegressor(num_leaves=2*best_num_leaves//3, learning_rate=best_learning_rate_1000,  num_iterations=1000, \n",
    "                               feature_fraction=best_feature_fraction, random_state=random_state)\n",
    "lgbm_model.fit(features_train, target_train)\n",
    "\n",
    "rmse_train_best = mean_squared_error(target_train, lgbm_model_best.predict(features_train), squared=False)\n",
    "rmse_valid_best = mean_squared_error(target_valid, lgbm_model_best.predict(features_valid), squared=False)\n",
    "rmse_train = mean_squared_error(target_train, lgbm_model.predict(features_train), squared=False)\n",
    "rmse_valid = mean_squared_error(target_valid, lgbm_model.predict(features_valid), squared=False)\n",
    "print(f'best_num_leaves      ----> RMSE train = {rmse_train_best:.1f}, RMSE valid = {rmse_valid_best:.1f}')\n",
    "print(f'2*best_num_leaves//3 ----> RMSE train = {rmse_train:.1f}, RMSE valid = {rmse_valid:.1f}')"
   ]
  },
  {
   "cell_type": "markdown",
   "metadata": {},
   "source": [
    "При уменьшении num_leaves в полтора раза метрика заметно падает как на тренировочной выборке, так и на валидационной. Явно выраженного переобучения не наблюдается. Добавим еще итераций, пропорционально уменьшая learning_rate:"
   ]
  },
  {
   "cell_type": "code",
   "execution_count": 67,
   "metadata": {},
   "outputs": [
    {
     "name": "stdout",
     "output_type": "stream",
     "text": [
      "[LightGBM] [Warning] feature_fraction is set=0.55, colsample_bytree=1.0 will be ignored. Current value: feature_fraction=0.55\n",
      "CPU times: total: 3min 12s\n",
      "Wall time: 54.2 s\n"
     ]
    },
    {
     "data": {
      "text/plain": [
       "LGBMRegressor(feature_fraction=0.55, learning_rate=0.012016180110745931,\n",
       "              num_iterations=5000, num_leaves=341, random_state=12345)"
      ]
     },
     "execution_count": 67,
     "metadata": {},
     "output_type": "execute_result"
    }
   ],
   "source": [
    "%%time\n",
    "lgbm_model = LGBMRegressor(num_leaves=best_num_leaves, learning_rate=best_learning_rate_1000/5,  num_iterations=5000, \n",
    "                               feature_fraction=best_feature_fraction, random_state=random_state)\n",
    "lgbm_model.fit(features_train, target_train)"
   ]
  },
  {
   "cell_type": "markdown",
   "metadata": {},
   "source": [
    "Предсказание:"
   ]
  },
  {
   "cell_type": "code",
   "execution_count": 68,
   "metadata": {
    "scrolled": true
   },
   "outputs": [
    {
     "name": "stdout",
     "output_type": "stream",
     "text": [
      "CPU times: total: 2min 6s\n",
      "Wall time: 33.3 s\n"
     ]
    },
    {
     "data": {
      "text/plain": [
       "1525.2062795178804"
      ]
     },
     "execution_count": 68,
     "metadata": {},
     "output_type": "execute_result"
    }
   ],
   "source": [
    "%%time\n",
    "mean_squared_error(target_valid, lgbm_model.predict(features_valid), squared=False)"
   ]
  },
  {
   "cell_type": "code",
   "execution_count": 103,
   "metadata": {},
   "outputs": [],
   "source": [
    "result_table.loc[result_table.shape[0]] = ['LightGBM', 1525, 54, 33, 300]"
   ]
  },
  {
   "cell_type": "markdown",
   "metadata": {},
   "source": [
    "И на этом результате остановимся."
   ]
  },
  {
   "cell_type": "markdown",
   "metadata": {},
   "source": [
    "Применяем лучшую модель к набору признаков _v2 с возрастными категориями, чтобы сравнить результат"
   ]
  },
  {
   "cell_type": "code",
   "execution_count": 69,
   "metadata": {},
   "outputs": [
    {
     "name": "stdout",
     "output_type": "stream",
     "text": [
      "[LightGBM] [Warning] feature_fraction is set=0.55, colsample_bytree=1.0 will be ignored. Current value: feature_fraction=0.55\n",
      "CPU times: total: 3min 14s\n",
      "Wall time: 55.1 s\n"
     ]
    },
    {
     "data": {
      "text/plain": [
       "LGBMRegressor(feature_fraction=0.55, learning_rate=0.012016180110745931,\n",
       "              num_iterations=5000, num_leaves=341, random_state=12345)"
      ]
     },
     "execution_count": 69,
     "metadata": {},
     "output_type": "execute_result"
    }
   ],
   "source": [
    "%%time\n",
    "lgbm_model = LGBMRegressor(num_leaves=best_num_leaves, learning_rate=best_learning_rate_1000/5,  num_iterations=5000, \n",
    "                               feature_fraction=best_feature_fraction, random_state=random_state)\n",
    "lgbm_model.fit(features_train_v2, target_train)"
   ]
  },
  {
   "cell_type": "code",
   "execution_count": 70,
   "metadata": {
    "scrolled": true
   },
   "outputs": [
    {
     "name": "stdout",
     "output_type": "stream",
     "text": [
      "CPU times: total: 2min 47s\n",
      "Wall time: 43.7 s\n"
     ]
    },
    {
     "data": {
      "text/plain": [
       "1812.0744781629642"
      ]
     },
     "execution_count": 70,
     "metadata": {},
     "output_type": "execute_result"
    }
   ],
   "source": [
    "%%time\n",
    "mean_squared_error(target_valid, lgbm_model.predict(features_valid_v2), squared=False)"
   ]
  },
  {
   "cell_type": "markdown",
   "metadata": {},
   "source": [
    "С набором признаков _v2 получилось кошмарно плохо, намного хуже даже случайного леса с обычными признаками. Неожиданный, честно говоря, результат. Предположение о том, что возраст можно заменить категорией \"возрастная группа\" не подтвердилось."
   ]
  },
  {
   "cell_type": "markdown",
   "metadata": {},
   "source": [
    "### Бустинг CatBoost"
   ]
  },
  {
   "cell_type": "markdown",
   "metadata": {},
   "source": [
    "Основные параметры CatBoost совпадают с параметрами LightGBM. Это max_leaves для моделей, learning_rate и n_estimators для бустинга. max_leaves ограничена значением max_depth, которая, в свою очередь, ограничена значением 16 для расчетов на GPU. Первым шагом оценим оптимальное learning_rate:"
   ]
  },
  {
   "cell_type": "code",
   "execution_count": 71,
   "metadata": {
    "scrolled": true
   },
   "outputs": [
    {
     "name": "stdout",
     "output_type": "stream",
     "text": [
      "learning rate = 0.30000 rmse = 1608.4\n",
      "learning rate = 0.15000 rmse = 1606.4\n",
      "learning rate = 0.07500 rmse = 1632.1\n",
      "learning rate = 0.22076 rmse = 1600.0\n",
      "learning rate = 0.21985 rmse = 1600.4\n",
      "CPU times: total: 1min 56s\n",
      "Wall time: 1min 14s\n"
     ]
    }
   ],
   "source": [
    "%%time\n",
    "optimizer = one_parameter_parabolic_optimizer([0.3], 1.03, step_method='geometric')\n",
    "for i in range(10):\n",
    "    learning_rate = optimizer.current_value\n",
    "    catboost_model = CatBoostRegressor(max_leaves=64, n_estimators=400, learning_rate=learning_rate, grow_policy='Lossguide',\n",
    "                                       verbose=False, random_state=random_state, task_type='GPU', loss_function='RMSE')\n",
    "    catboost_model.fit(features_train, target_train)\n",
    "    rmse = mean_squared_error(target_valid, catboost_model.predict(features_valid), squared=False)\n",
    "    print(f'learning rate = {learning_rate:.5f} rmse = {rmse:.1f}')\n",
    "    if optimizer.add_metric_value(rmse):\n",
    "        break\n",
    "best_learning_rate_cb_400 = optimizer.best_value()"
   ]
  },
  {
   "cell_type": "markdown",
   "metadata": {},
   "source": [
    "Результат пока не впечатляет, у LightGBM за то же время получилось значительно лучше. В описании CatBoost рекомендуют не кодировать параметры. Попробуем варианты без кодировния вообще:"
   ]
  },
  {
   "cell_type": "code",
   "execution_count": 72,
   "metadata": {},
   "outputs": [
    {
     "name": "stdout",
     "output_type": "stream",
     "text": [
      "CPU times: total: 30.8 s\n",
      "Wall time: 18.4 s\n"
     ]
    },
    {
     "data": {
      "text/plain": [
       "1624.2248492918304"
      ]
     },
     "execution_count": 72,
     "metadata": {},
     "output_type": "execute_result"
    }
   ],
   "source": [
    "%%time\n",
    "catboost_model = CatBoostRegressor(max_leaves=64, n_estimators=400, learning_rate=learning_rate, grow_policy='Lossguide',\n",
    "                                   verbose=False, random_state=random_state, task_type='GPU', loss_function='RMSE')\n",
    "catboost_model.fit(features_train_cb, target_train, cat_features = categorical_list)\n",
    "mean_squared_error(target_valid, catboost_model.predict(features_valid_cb), squared=False)"
   ]
  },
  {
   "cell_type": "markdown",
   "metadata": {},
   "source": [
    "Стало медленнее и хуже. Попробуем отдельно без OHE:"
   ]
  },
  {
   "cell_type": "code",
   "execution_count": 73,
   "metadata": {},
   "outputs": [
    {
     "name": "stdout",
     "output_type": "stream",
     "text": [
      "CPU times: total: 33.7 s\n",
      "Wall time: 19.6 s\n"
     ]
    },
    {
     "data": {
      "text/plain": [
       "1611.3431775447227"
      ]
     },
     "execution_count": 73,
     "metadata": {},
     "output_type": "execute_result"
    }
   ],
   "source": [
    "%%time\n",
    "catboost_model = CatBoostRegressor(max_leaves=64, n_estimators=400, learning_rate=learning_rate, grow_policy='Lossguide',\n",
    "                                   verbose=False, random_state=random_state, task_type='GPU', loss_function='RMSE')\n",
    "catboost_model.fit(features_train_te, target_train, cat_features = ohe_categories)\n",
    "mean_squared_error(target_valid, catboost_model.predict(features_valid_te), squared=False)"
   ]
  },
  {
   "cell_type": "markdown",
   "metadata": {},
   "source": [
    "Так тоже не лучше. Попробуем пошевелить max_leaves:"
   ]
  },
  {
   "cell_type": "code",
   "execution_count": 74,
   "metadata": {},
   "outputs": [
    {
     "name": "stdout",
     "output_type": "stream",
     "text": [
      "max_leaves = 11.00000 rmse = 1668.7\n",
      "max_leaves = 101.00000 rmse = 1600.0\n",
      "max_leaves = 56.00000 rmse = 1606.2\n",
      "max_leaves = 78.00000 rmse = 1600.0\n",
      "max_leaves = 89.00000 rmse = 1600.0\n",
      "max_leaves = 94.00000 rmse = 1600.0\n",
      "max_leaves = 92.00000 rmse = 1600.0\n",
      "CPU times: total: 2min 40s\n",
      "Wall time: 1min 38s\n"
     ]
    }
   ],
   "source": [
    "%%time\n",
    "optimizer = one_parameter_parabolic_optimizer([11,101], 1.03, step_method='dichotomy')\n",
    "for i in range(10):\n",
    "    max_leaves = int(optimizer.current_value)\n",
    "    catboost_model = CatBoostRegressor(max_leaves=max_leaves, n_estimators=400, learning_rate=best_learning_rate_cb_400, \n",
    "                                       grow_policy='Lossguide', verbose=False, \n",
    "                                       random_state=random_state, task_type='GPU', loss_function='RMSE')\n",
    "    catboost_model.fit(features_train, target_train)\n",
    "    rmse = mean_squared_error(target_valid, catboost_model.predict(features_valid), squared=False)\n",
    "    print(f'max_leaves = {max_leaves:.5f} rmse = {rmse:.1f}')\n",
    "    if optimizer.add_metric_value(rmse):\n",
    "        break\n",
    "best_max_leaves_cb_400 = optimizer.best_value()"
   ]
  },
  {
   "cell_type": "markdown",
   "metadata": {},
   "source": [
    "При max_leaves>64 получаем идентичный результат. Вероятно, это ограничение со стороны max_depth. Зададим этот параметр:"
   ]
  },
  {
   "cell_type": "code",
   "execution_count": 75,
   "metadata": {},
   "outputs": [
    {
     "name": "stdout",
     "output_type": "stream",
     "text": [
      "CPU times: total: 26.4 s\n",
      "Wall time: 16.9 s\n"
     ]
    },
    {
     "data": {
      "text/plain": [
       "1595.972700114546"
      ]
     },
     "execution_count": 75,
     "metadata": {},
     "output_type": "execute_result"
    }
   ],
   "source": [
    "%%time\n",
    "catboost_model = CatBoostRegressor(max_depth=8, max_leaves=64, n_estimators=400, learning_rate=best_learning_rate_cb_400, grow_policy='Lossguide',\n",
    "                                       verbose=False, random_state=random_state, task_type='GPU', loss_function='RMSE')\n",
    "catboost_model.fit(features_train, target_train)\n",
    "mean_squared_error(target_valid, catboost_model.predict(features_valid), squared=False)"
   ]
  },
  {
   "cell_type": "code",
   "execution_count": 76,
   "metadata": {},
   "outputs": [
    {
     "name": "stdout",
     "output_type": "stream",
     "text": [
      "CPU times: total: 30.8 s\n",
      "Wall time: 19.7 s\n"
     ]
    },
    {
     "data": {
      "text/plain": [
       "1590.2423694023323"
      ]
     },
     "execution_count": 76,
     "metadata": {},
     "output_type": "execute_result"
    }
   ],
   "source": [
    "%%time\n",
    "catboost_model = CatBoostRegressor(max_depth=16, max_leaves=64, n_estimators=400, learning_rate=best_learning_rate_cb_400, grow_policy='Lossguide',\n",
    "                                       verbose=False, random_state=random_state, task_type='GPU', loss_function='RMSE')\n",
    "catboost_model.fit(features_train, target_train)\n",
    "mean_squared_error(target_valid, catboost_model.predict(features_valid), squared=False)"
   ]
  },
  {
   "cell_type": "code",
   "execution_count": 77,
   "metadata": {},
   "outputs": [
    {
     "name": "stdout",
     "output_type": "stream",
     "text": [
      "CPU times: total: 1min 29s\n",
      "Wall time: 57.6 s\n"
     ]
    },
    {
     "data": {
      "text/plain": [
       "1571.1191456662839"
      ]
     },
     "execution_count": 77,
     "metadata": {},
     "output_type": "execute_result"
    }
   ],
   "source": [
    "%%time\n",
    "catboost_model = CatBoostRegressor(max_depth=16, max_leaves=201, n_estimators=400, learning_rate=best_learning_rate_cb_400, \n",
    "                                   grow_policy='Lossguide',\n",
    "                                       verbose=False, random_state=random_state, task_type='GPU', loss_function='RMSE')\n",
    "catboost_model.fit(features_train, target_train)\n",
    "mean_squared_error(target_valid, catboost_model.predict(features_valid), squared=False)"
   ]
  },
  {
   "cell_type": "markdown",
   "metadata": {},
   "source": [
    "Так получается значительно обогнать случайный лес, но считается уже целую минуту и все равно уступает LightGBM. Попробуем больше шагов:"
   ]
  },
  {
   "cell_type": "code",
   "execution_count": 78,
   "metadata": {
    "scrolled": true
   },
   "outputs": [
    {
     "name": "stdout",
     "output_type": "stream",
     "text": [
      "CPU times: total: 3min 45s\n",
      "Wall time: 2min 25s\n"
     ]
    },
    {
     "data": {
      "text/plain": [
       "<catboost.core.CatBoostRegressor at 0x1de01d35310>"
      ]
     },
     "execution_count": 78,
     "metadata": {},
     "output_type": "execute_result"
    }
   ],
   "source": [
    "%%time\n",
    "catboost_model = CatBoostRegressor(max_depth=16, max_leaves=201, n_estimators=1000, learning_rate=best_learning_rate_cb_400/2.5, \n",
    "                                   grow_policy='Lossguide',\n",
    "                                       verbose=False, random_state=random_state, task_type='GPU', loss_function='RMSE')\n",
    "catboost_model.fit(features_train, target_train)"
   ]
  },
  {
   "cell_type": "markdown",
   "metadata": {},
   "source": [
    "Предсказание:"
   ]
  },
  {
   "cell_type": "code",
   "execution_count": 79,
   "metadata": {},
   "outputs": [
    {
     "name": "stdout",
     "output_type": "stream",
     "text": [
      "CPU times: total: 1.08 s\n",
      "Wall time: 280 ms\n"
     ]
    },
    {
     "data": {
      "text/plain": [
       "1543.2940225373593"
      ]
     },
     "execution_count": 79,
     "metadata": {},
     "output_type": "execute_result"
    }
   ],
   "source": [
    "%%time\n",
    "mean_squared_error(target_valid, catboost_model.predict(features_valid), squared=False)"
   ]
  },
  {
   "cell_type": "markdown",
   "metadata": {},
   "source": [
    "Уже неплохой результат, но с LightGBM получилось лучше."
   ]
  },
  {
   "cell_type": "code",
   "execution_count": 105,
   "metadata": {},
   "outputs": [],
   "source": [
    "result_table.loc[result_table.shape[0]] = ['CatBoost', 1543, 145, 0.3, 445]"
   ]
  },
  {
   "cell_type": "markdown",
   "metadata": {},
   "source": [
    "### Финальное обучение лучшей модели и проверка на тестовой выборке"
   ]
  },
  {
   "cell_type": "markdown",
   "metadata": {},
   "source": [
    "Модель LightGBM с оптимальными параметрами обучим на совокупности тренировочной и валидационной выборок:"
   ]
  },
  {
   "cell_type": "code",
   "execution_count": 80,
   "metadata": {
    "scrolled": false
   },
   "outputs": [
    {
     "name": "stdout",
     "output_type": "stream",
     "text": [
      "[LightGBM] [Warning] feature_fraction is set=0.55, colsample_bytree=1.0 will be ignored. Current value: feature_fraction=0.55\n",
      "CPU times: total: 4min 2s\n",
      "Wall time: 1min 6s\n"
     ]
    },
    {
     "data": {
      "text/plain": [
       "LGBMRegressor(feature_fraction=0.55, learning_rate=0.012016180110745931,\n",
       "              num_iterations=5000, num_leaves=341, random_state=12345)"
      ]
     },
     "execution_count": 80,
     "metadata": {},
     "output_type": "execute_result"
    }
   ],
   "source": [
    "%%time\n",
    "best_lgbm_model = LGBMRegressor(num_leaves=best_num_leaves, learning_rate=best_learning_rate_1000/5,  num_iterations=5000, \n",
    "                               feature_fraction=best_feature_fraction, random_state=random_state)\n",
    "lgbm_model.fit( pd.concat([features_train, features_valid]), pd.concat([target_train, target_valid]))"
   ]
  },
  {
   "cell_type": "markdown",
   "metadata": {},
   "source": [
    "Предсказание:"
   ]
  },
  {
   "cell_type": "code",
   "execution_count": 81,
   "metadata": {
    "scrolled": true
   },
   "outputs": [
    {
     "name": "stdout",
     "output_type": "stream",
     "text": [
      "RMSE лучшей модели на тестовой выборке: 1507.4\n",
      "CPU times: total: 1min 55s\n",
      "Wall time: 30.5 s\n"
     ]
    }
   ],
   "source": [
    "%%time\n",
    "rmse = mean_squared_error(target_test, lgbm_model.predict(features_test), squared=False)\n",
    "print(f'RMSE лучшей модели на тестовой выборке: {rmse:.1f}')"
   ]
  },
  {
   "cell_type": "markdown",
   "metadata": {},
   "source": [
    "Результат на тестовой выборке закономерно улучшился за счет увеличения тренировочной"
   ]
  },
  {
   "cell_type": "code",
   "execution_count": 106,
   "metadata": {},
   "outputs": [],
   "source": [
    "result_table.loc[result_table.shape[0]] = ['Финальная LGBM', 1507, 66, 30, 396]"
   ]
  },
  {
   "cell_type": "markdown",
   "metadata": {},
   "source": [
    "Посмотрим на важность признаков в разных моделях. Сортируем по лучшей модели:"
   ]
  },
  {
   "cell_type": "code",
   "execution_count": 82,
   "metadata": {},
   "outputs": [
    {
     "data": {
      "image/png": "[encoded data removed]",
      "text/plain": [
       "<Figure size 1152x1440 with 1 Axes>"
      ]
     },
     "metadata": {
      "needs_background": "light"
     },
     "output_type": "display_data"
    }
   ],
   "source": [
    "feature_imp = pd.DataFrame({'LightGBM':lgbm_model.feature_importances_, \n",
    "                            'CatBoost':catboost_model.feature_importances_, \n",
    "                            'Случайный лес':rf_model.feature_importances_,\n",
    "                            'Линейная регрессия':lr_model.coef_,\n",
    "                            'Признаки':features_train.columns})\n",
    "feature_imp['LightGBM'] = feature_imp['LightGBM']/feature_imp['LightGBM'].sum()\n",
    "feature_imp['CatBoost'] = feature_imp['CatBoost']/feature_imp['CatBoost'].sum()\n",
    "feature_imp['Случайный лес'] = feature_imp['Случайный лес']/feature_imp['Случайный лес'].sum()\n",
    "feature_imp['Линейная регрессия'] = abs(feature_imp['Линейная регрессия'])/abs(feature_imp['Линейная регрессия']).sum()\n",
    "feature_imp.sort_values(by='LightGBM').tail(20).plot(kind = 'barh', x='Признаки',figsize=(16,20), title='Важность признаков')\n",
    "plt.show()"
   ]
  },
  {
   "cell_type": "markdown",
   "metadata": {},
   "source": [
    "Интересно, что лучшая модель сочла важнейшим признаком почтовый индекс, а остальные проигнорировали его. Еще интересно, что CatBoost довольно точно сошелся со случайным лесом. И предсказывает он тоже очень быстро, в отличие от LightGBM. Не строит ли CatBoost в процессе обучения именно одно дерево? Линейная регрессия вообще расставила коэффициенты исключительно на мелкие признаки из OHE, но для придания ее коэффициентам смысла пришлось бы сначала признаки нормировать. Не будем."
   ]
  },
  {
   "cell_type": "markdown",
   "metadata": {},
   "source": [
    "## Анализ моделей и выводы"
   ]
  },
  {
   "cell_type": "markdown",
   "metadata": {},
   "source": [
    "Представим таблицу с совокупными результатами по всем моделям и подведем итоги:"
   ]
  },
  {
   "cell_type": "code",
   "execution_count": 109,
   "metadata": {
    "scrolled": true
   },
   "outputs": [
    {
     "data": {
      "text/html": [
       "<div>\n",
       "<style scoped>\n",
       "    .dataframe tbody tr th:only-of-type {\n",
       "        vertical-align: middle;\n",
       "    }\n",
       "\n",
       "    .dataframe tbody tr th {\n",
       "        vertical-align: top;\n",
       "    }\n",
       "\n",
       "    .dataframe thead th {\n",
       "        text-align: right;\n",
       "    }\n",
       "</style>\n",
       "<table border=\"1\" class=\"dataframe\">\n",
       "  <thead>\n",
       "    <tr style=\"text-align: right;\">\n",
       "      <th></th>\n",
       "      <th>Название модели</th>\n",
       "      <th>Лучшее значение RMSE</th>\n",
       "      <th>Время обучения (секунды wall time)</th>\n",
       "      <th>Время предсказания</th>\n",
       "      <th>Время подбора параметров</th>\n",
       "    </tr>\n",
       "  </thead>\n",
       "  <tbody>\n",
       "    <tr>\n",
       "      <th>0</th>\n",
       "      <td>Финальная LGBM</td>\n",
       "      <td>1507</td>\n",
       "      <td>66.0</td>\n",
       "      <td>30.00</td>\n",
       "      <td>396.0</td>\n",
       "    </tr>\n",
       "    <tr>\n",
       "      <th>1</th>\n",
       "      <td>LightGBM</td>\n",
       "      <td>1525</td>\n",
       "      <td>54.0</td>\n",
       "      <td>33.00</td>\n",
       "      <td>300.0</td>\n",
       "    </tr>\n",
       "    <tr>\n",
       "      <th>2</th>\n",
       "      <td>CatBoost</td>\n",
       "      <td>1543</td>\n",
       "      <td>145.0</td>\n",
       "      <td>0.30</td>\n",
       "      <td>445.0</td>\n",
       "    </tr>\n",
       "    <tr>\n",
       "      <th>3</th>\n",
       "      <td>Случайный лес</td>\n",
       "      <td>1596</td>\n",
       "      <td>220.0</td>\n",
       "      <td>5.00</td>\n",
       "      <td>330.0</td>\n",
       "    </tr>\n",
       "    <tr>\n",
       "      <th>4</th>\n",
       "      <td>Линейная регрессия</td>\n",
       "      <td>2829</td>\n",
       "      <td>0.1</td>\n",
       "      <td>0.01</td>\n",
       "      <td>0.1</td>\n",
       "    </tr>\n",
       "  </tbody>\n",
       "</table>\n",
       "</div>"
      ],
      "text/plain": [
       "      Название модели  Лучшее значение RMSE  \\\n",
       "0      Финальная LGBM                  1507   \n",
       "1            LightGBM                  1525   \n",
       "2            CatBoost                  1543   \n",
       "3       Случайный лес                  1596   \n",
       "4  Линейная регрессия                  2829   \n",
       "\n",
       "   Время обучения (секунды wall time)  Время предсказания  \\\n",
       "0                                66.0               30.00   \n",
       "1                                54.0               33.00   \n",
       "2                               145.0                0.30   \n",
       "3                               220.0                5.00   \n",
       "4                                 0.1                0.01   \n",
       "\n",
       "   Время подбора параметров   \n",
       "0                      396.0  \n",
       "1                      300.0  \n",
       "2                      445.0  \n",
       "3                      330.0  \n",
       "4                        0.1  "
      ]
     },
     "execution_count": 109,
     "metadata": {},
     "output_type": "execute_result"
    }
   ],
   "source": [
    "result_table.sort_values(by='Лучшее значение RMSE').reset_index(drop=True)"
   ]
  },
  {
   "cell_type": "markdown",
   "metadata": {},
   "source": [
    "* В работе построены и обучены модели методами Linear Regression, Random Forest, LightGBM и CatBoost\n",
    "* Проведенное сравнение на валидационной выборке показало явное преимущество бустинга над ансамблем независимых моделей в точности\n",
    "* LightGBM характеризуется значительными затратами времени на предсказания в сравнении с Random Forest\n",
    "* CatBoost предсказывает очень быстро, несмотря на сложность модели\n",
    "* Достигнутые значения RMSE на валидационной выборке составляют 2830 для Linear Regression, 1595 для Random Forest, 1540 для CatBoost и 1525 для LightGBM\n",
    "* Указанные результаты приведены для примерно равных значений времени выполнения в 90-150 секунд\n",
    "* Предложенный и реализованный в виде отдельного класса метод последовательной оптимизации моделей по одному параметру путем аппроксимации метрики параболами позволил значительно улучшить предсказания, особенно для модели LightGBM\n",
    "* В работе не удалось подтвердить заявленное преимущество CatBoost в точности предсказаний, несмотря на использование GPU\n",
    "* Также не подтвердилась рекомендация не кодировать для CatBoost признаки\n",
    "* На тестовой выборке моделью LightGBM достигнуто значение RMSE=1507\n",
    "* Медианное значение цены в анкете равно 2700. Соответственно, RMSE=1507 - довольно значительная ошибка."
   ]
  }
 ],
 "metadata": {
  "kernelspec": {
   "display_name": "Python 3 (ipykernel)",
   "language": "python",
   "name": "python3"
  },
  "language_info": {
   "codemirror_mode": {
    "name": "ipython",
    "version": 3
   },
   "file_extension": ".py",
   "mimetype": "text/x-python",
   "name": "python",
   "nbconvert_exporter": "python",
   "pygments_lexer": "ipython3",
   "version": "3.9.12"
  },
  "toc": {
   "base_numbering": 1,
   "nav_menu": {},
   "number_sections": true,
   "sideBar": true,
   "skip_h1_title": true,
   "title_cell": "Table of Contents",
   "title_sidebar": "Contents",
   "toc_cell": false,
   "toc_position": {},
   "toc_section_display": true,
   "toc_window_display": false
  }
 },
 "nbformat": 4,
 "nbformat_minor": 2
}
